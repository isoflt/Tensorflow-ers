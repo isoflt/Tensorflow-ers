{
 "cells": [
  {
   "cell_type": "markdown",
   "metadata": {},
   "source": [
    "# Quora Questions - Text Classification"
   ]
  },
  {
   "cell_type": "code",
   "execution_count": 1,
   "metadata": {
    "collapsed": true
   },
   "outputs": [],
   "source": [
    "import pandas as pd"
   ]
  },
  {
   "cell_type": "code",
   "execution_count": 2,
   "metadata": {
    "collapsed": true
   },
   "outputs": [],
   "source": [
    "original_train = pd.read_csv('QuoraQuestions/train.csv')\n",
    "original_test = pd.read_csv('QuoraQuestions/test.csv')"
   ]
  },
  {
   "cell_type": "code",
   "execution_count": 3,
   "metadata": {},
   "outputs": [
    {
     "data": {
      "text/html": [
       "<div>\n",
       "<style>\n",
       "    .dataframe thead tr:only-child th {\n",
       "        text-align: right;\n",
       "    }\n",
       "\n",
       "    .dataframe thead th {\n",
       "        text-align: left;\n",
       "    }\n",
       "\n",
       "    .dataframe tbody tr th {\n",
       "        vertical-align: top;\n",
       "    }\n",
       "</style>\n",
       "<table border=\"1\" class=\"dataframe\">\n",
       "  <thead>\n",
       "    <tr style=\"text-align: right;\">\n",
       "      <th></th>\n",
       "      <th>qid</th>\n",
       "      <th>question_text</th>\n",
       "      <th>target</th>\n",
       "    </tr>\n",
       "  </thead>\n",
       "  <tbody>\n",
       "    <tr>\n",
       "      <th>0</th>\n",
       "      <td>00002165364db923c7e6</td>\n",
       "      <td>How did Quebec nationalists see their province...</td>\n",
       "      <td>0</td>\n",
       "    </tr>\n",
       "    <tr>\n",
       "      <th>1</th>\n",
       "      <td>000032939017120e6e44</td>\n",
       "      <td>Do you have an adopted dog, how would you enco...</td>\n",
       "      <td>0</td>\n",
       "    </tr>\n",
       "    <tr>\n",
       "      <th>2</th>\n",
       "      <td>0000412ca6e4628ce2cf</td>\n",
       "      <td>Why does velocity affect time? Does velocity a...</td>\n",
       "      <td>0</td>\n",
       "    </tr>\n",
       "    <tr>\n",
       "      <th>3</th>\n",
       "      <td>000042bf85aa498cd78e</td>\n",
       "      <td>How did Otto von Guericke used the Magdeburg h...</td>\n",
       "      <td>0</td>\n",
       "    </tr>\n",
       "    <tr>\n",
       "      <th>4</th>\n",
       "      <td>0000455dfa3e01eae3af</td>\n",
       "      <td>Can I convert montra helicon D to a mountain b...</td>\n",
       "      <td>0</td>\n",
       "    </tr>\n",
       "  </tbody>\n",
       "</table>\n",
       "</div>"
      ],
      "text/plain": [
       "                    qid                                      question_text  \\\n",
       "0  00002165364db923c7e6  How did Quebec nationalists see their province...   \n",
       "1  000032939017120e6e44  Do you have an adopted dog, how would you enco...   \n",
       "2  0000412ca6e4628ce2cf  Why does velocity affect time? Does velocity a...   \n",
       "3  000042bf85aa498cd78e  How did Otto von Guericke used the Magdeburg h...   \n",
       "4  0000455dfa3e01eae3af  Can I convert montra helicon D to a mountain b...   \n",
       "\n",
       "   target  \n",
       "0       0  \n",
       "1       0  \n",
       "2       0  \n",
       "3       0  \n",
       "4       0  "
      ]
     },
     "execution_count": 3,
     "metadata": {},
     "output_type": "execute_result"
    }
   ],
   "source": [
    "original_train.head()"
   ]
  },
  {
   "cell_type": "code",
   "execution_count": 7,
   "metadata": {
    "scrolled": false
   },
   "outputs": [
    {
     "data": {
      "text/html": [
       "<div>\n",
       "<style>\n",
       "    .dataframe thead tr:only-child th {\n",
       "        text-align: right;\n",
       "    }\n",
       "\n",
       "    .dataframe thead th {\n",
       "        text-align: left;\n",
       "    }\n",
       "\n",
       "    .dataframe tbody tr th {\n",
       "        vertical-align: top;\n",
       "    }\n",
       "</style>\n",
       "<table border=\"1\" class=\"dataframe\">\n",
       "  <thead>\n",
       "    <tr style=\"text-align: right;\">\n",
       "      <th></th>\n",
       "      <th>qid</th>\n",
       "      <th>question_text</th>\n",
       "    </tr>\n",
       "  </thead>\n",
       "  <tbody>\n",
       "    <tr>\n",
       "      <th>0</th>\n",
       "      <td>00014894849d00ba98a9</td>\n",
       "      <td>My voice range is A2-C5. My chest voice goes u...</td>\n",
       "    </tr>\n",
       "    <tr>\n",
       "      <th>1</th>\n",
       "      <td>000156468431f09b3cae</td>\n",
       "      <td>How much does a tutor earn in Bangalore?</td>\n",
       "    </tr>\n",
       "    <tr>\n",
       "      <th>2</th>\n",
       "      <td>000227734433360e1aae</td>\n",
       "      <td>What are the best made pocket knives under $20...</td>\n",
       "    </tr>\n",
       "    <tr>\n",
       "      <th>3</th>\n",
       "      <td>0005e06fbe3045bd2a92</td>\n",
       "      <td>Why would they add a hypothetical scenario tha...</td>\n",
       "    </tr>\n",
       "    <tr>\n",
       "      <th>4</th>\n",
       "      <td>00068a0f7f41f50fc399</td>\n",
       "      <td>What is the dresscode for Techmahindra freshers?</td>\n",
       "    </tr>\n",
       "  </tbody>\n",
       "</table>\n",
       "</div>"
      ],
      "text/plain": [
       "                    qid                                      question_text\n",
       "0  00014894849d00ba98a9  My voice range is A2-C5. My chest voice goes u...\n",
       "1  000156468431f09b3cae           How much does a tutor earn in Bangalore?\n",
       "2  000227734433360e1aae  What are the best made pocket knives under $20...\n",
       "3  0005e06fbe3045bd2a92  Why would they add a hypothetical scenario tha...\n",
       "4  00068a0f7f41f50fc399   What is the dresscode for Techmahindra freshers?"
      ]
     },
     "execution_count": 7,
     "metadata": {},
     "output_type": "execute_result"
    }
   ],
   "source": [
    "original_test.head()"
   ]
  },
  {
   "cell_type": "markdown",
   "metadata": {},
   "source": [
    "## Percentages of the two classes in the data\n",
    "Two sample types:\n",
    "* sincere\n",
    "* insincere"
   ]
  },
  {
   "cell_type": "code",
   "execution_count": 286,
   "metadata": {},
   "outputs": [
    {
     "name": "stdout",
     "output_type": "stream",
     "text": [
      "1225312.0\n",
      "80810.0\n",
      "0.938129822482\n",
      "0.0618701775179\n"
     ]
    }
   ],
   "source": [
    "num_sincere = float(len(original_train[original_train['target'] == 0]))\n",
    "num_insincere = float(len(original_train[original_train['target'] == 1]))\n",
    "print num_sincere\n",
    "print num_insincere\n",
    "print num_sincere / (num_sincere + num_insincere)\n",
    "print num_insincere / (num_sincere + num_insincere)"
   ]
  },
  {
   "cell_type": "markdown",
   "metadata": {},
   "source": [
    "## Let's examine the data"
   ]
  },
  {
   "cell_type": "code",
   "execution_count": 16,
   "metadata": {},
   "outputs": [
    {
     "data": {
      "text/plain": [
       "'Which babies are more sweeter to their parents? Dark skin babies or light skin babies?'"
      ]
     },
     "execution_count": 16,
     "metadata": {},
     "output_type": "execute_result"
    }
   ],
   "source": [
    "original_train[original_train['target'] == 1].head()['question_text'][30] # definitively insincere"
   ]
  },
  {
   "cell_type": "code",
   "execution_count": 21,
   "metadata": {},
   "outputs": [
    {
     "data": {
      "text/plain": [
       "\"If blacks support school choice and mandatory sentencing for criminals why don't they vote Republican?\""
      ]
     },
     "execution_count": 21,
     "metadata": {},
     "output_type": "execute_result"
    }
   ],
   "source": [
    "original_train[original_train['target'] == 1].head()['question_text'][110] # on the cusp - could be considered insincere bc \"blacks\" is not necessarily PC"
   ]
  },
  {
   "cell_type": "code",
   "execution_count": 22,
   "metadata": {},
   "outputs": [
    {
     "data": {
      "text/plain": [
       "'I am gay boy and I love my cousin (boy). He is sexy, but I dont know what to do. He is hot, and I want to see his di**. What should I do?'"
      ]
     },
     "execution_count": 22,
     "metadata": {},
     "output_type": "execute_result"
    }
   ],
   "source": [
    "original_train[original_train['target'] == 1].head()['question_text'][114] # lascivious and this is borderline incest"
   ]
  },
  {
   "cell_type": "code",
   "execution_count": 20,
   "metadata": {},
   "outputs": [
    {
     "data": {
      "text/plain": [
       "'Which races have the smallest penis?'"
      ]
     },
     "execution_count": 20,
     "metadata": {},
     "output_type": "execute_result"
    }
   ],
   "source": [
    "original_train[original_train['target'] == 1].head()['question_text'][115] # definitely insincere"
   ]
  },
  {
   "cell_type": "code",
   "execution_count": 170,
   "metadata": {},
   "outputs": [
    {
     "data": {
      "text/plain": [
       "'How is it to have intimate relation with your cousin?'"
      ]
     },
     "execution_count": 170,
     "metadata": {},
     "output_type": "execute_result"
    }
   ],
   "source": [
    "original_train[original_train['target'] == 1].tail()['question_text'][1306093] # part 2 - incest"
   ]
  },
  {
   "cell_type": "code",
   "execution_count": 27,
   "metadata": {},
   "outputs": [
    {
     "data": {
      "text/plain": [
       "'Do pakis smell of curry and shit?'"
      ]
     },
     "execution_count": 27,
     "metadata": {},
     "output_type": "execute_result"
    }
   ],
   "source": [
    "original_train[original_train['target'] == 1].tail()['question_text'][1306099] # racist towards pakistani people"
   ]
  },
  {
   "cell_type": "code",
   "execution_count": 26,
   "metadata": {},
   "outputs": [
    {
     "data": {
      "text/plain": [
       "'Why is it when singers have lyrics about voices in their head, religious people say they hear god and anyone stating they are being targeted by voice to brain technology? Are they called delusional schizo?'"
      ]
     },
     "execution_count": 26,
     "metadata": {},
     "output_type": "execute_result"
    }
   ],
   "source": [
    "original_train[original_train['target'] == 1].tail()['question_text'][1306094] # provocative and trying to make a statement"
   ]
  },
  {
   "cell_type": "code",
   "execution_count": 306,
   "metadata": {
    "collapsed": true
   },
   "outputs": [],
   "source": [
    "split_train1 = list(map(lambda x : x.lower().split(), original_train[original_train['target'] == 1]['question_text']))\n",
    "split_train0 = list(map(lambda x : x.lower().split(), original_train[original_train['target'] == 0]['question_text']))"
   ]
  },
  {
   "cell_type": "markdown",
   "metadata": {},
   "source": [
    "## Proportion of Different Question Types"
   ]
  },
  {
   "cell_type": "code",
   "execution_count": 272,
   "metadata": {
    "collapsed": true
   },
   "outputs": [],
   "source": [
    "# determine question type counts among sincere and sincere questions\n",
    "search1 = 'why'\n",
    "search2 = 'how'\n",
    "search3 = 'what'\n",
    "search4 = 'do'\n",
    "insincere_questions = [[] for _ in range(4)]\n",
    "sincere_questions = [[] for _ in range(4)]\n",
    "for sublist in split_train1:\n",
    "    if sublist[0] == search1:\n",
    "        insincere_questions[0].append(sublist)\n",
    "    elif sublist[0] == search2:\n",
    "        insincere_questions[1].append(sublist)\n",
    "    elif sublist[0] == search3:\n",
    "        insincere_questions[2].append(sublist)\n",
    "    elif sublist[0] == search4:\n",
    "        insincere_questions[3].append(sublist)\n",
    "for sublist in split_train0:\n",
    "    if sublist[0] == search1:\n",
    "        sincere_questions[0].append(sublist)\n",
    "    elif sublist[0] == search2:\n",
    "        sincere_questions[1].append(sublist)\n",
    "    elif sublist[0] == search3:\n",
    "        sincere_questions[2].append(sublist)\n",
    "    elif sublist[0] == search4:\n",
    "        sincere_questions[3].append(sublist)"
   ]
  },
  {
   "cell_type": "code",
   "execution_count": 277,
   "metadata": {},
   "outputs": [
    {
     "name": "stdout",
     "output_type": "stream",
     "text": [
      "['why', 'how', 'what', 'do']\n",
      "[0.3750154683826259, 0.07996535082291796, 0.060524687538670956, 0.058792228684568744]\n",
      "[0.08513260296153143, 0.19587337755608367, 0.31855968112611316, 0.02511197148154919]\n"
     ]
    }
   ],
   "source": [
    "insincere_question_prop = [len(insincere_questions[0])/num_insincere, len(insincere_questions[1])/num_insincere, len(insincere_questions[2])/num_insincere, len(insincere_questions[3])/num_insincere]\n",
    "sincere_question_prop = [len(sincere_questions[0])/num_sincere, len(sincere_questions[1])/num_sincere, len(sincere_questions[2])/num_sincere, len(sincere_questions[3])/num_sincere]\n",
    "question_names = [search1, search2, search3, search4]\n",
    "print question_names\n",
    "print insincere_question_prop\n",
    "print sincere_question_prop"
   ]
  },
  {
   "cell_type": "markdown",
   "metadata": {},
   "source": [
    "### Plot Question Proportions"
   ]
  },
  {
   "cell_type": "code",
   "execution_count": 280,
   "metadata": {
    "scrolled": true
   },
   "outputs": [
    {
     "data": {
      "image/png": "[encoded data removed]",
      "text/plain": [
       "<matplotlib.figure.Figure at 0x7d85d4a8>"
      ]
     },
     "metadata": {},
     "output_type": "display_data"
    }
   ],
   "source": [
    "plt.barh(question_names, insincere_question_prop, color = 'teal')\n",
    "plt.title('Proportion of Question Types Among Insincere Qs', fontsize = 15)\n",
    "plt.xticks(fontsize = 12)\n",
    "plt.yticks(fontsize = 13)\n",
    "plt.xlabel('Density', fontsize = 13)\n",
    "plt.ylabel('Question', fontsize = 14)\n",
    "plt.show()"
   ]
  },
  {
   "cell_type": "code",
   "execution_count": 282,
   "metadata": {},
   "outputs": [
    {
     "data": {
      "image/png": "[encoded data removed]",
      "text/plain": [
       "<matplotlib.figure.Figure at 0x7f409908>"
      ]
     },
     "metadata": {},
     "output_type": "display_data"
    }
   ],
   "source": [
    "plt.barh(question_names, sincere_question_prop, color = 'orange')\n",
    "plt.title('Proportion of Question Types Among Sincere Qs', fontsize = 15)\n",
    "plt.xticks(fontsize = 12)\n",
    "plt.yticks(fontsize = 13)\n",
    "plt.xlabel('Density', fontsize = 13)\n",
    "plt.ylabel('Question', fontsize = 14)\n",
    "plt.show()"
   ]
  },
  {
   "cell_type": "markdown",
   "metadata": {},
   "source": [
    "#### Comment: \n",
    "People who ask insincere questions use significantly more \"why\" questions than any other question type. The \"why\" question assumes a statement to be true, which can be problematic in some cases. For many insincere \"why\" questions, the underlying assumption is inconclusive or is subjective, so the individual is more likely to be asserting an opinion rather than genuinely seeking the answer to a question."
   ]
  },
  {
   "cell_type": "code",
   "execution_count": 311,
   "metadata": {
    "collapsed": true
   },
   "outputs": [],
   "source": [
    "# use this to determine common n-grams\n",
    "#val = all(x in sublist for x in [search1]) # use this to find a combination of words in a sentence\n",
    "from nltk.util import ngrams\n",
    "search1 = 'jews'\n",
    "search2 = 'and'\n",
    "search3 = 'blacks'\n",
    "questions = []\n",
    "for sublist in split_train1:\n",
    "    bigrams = list(ngrams(sublist, 3)) \n",
    "    bg = (search1, search2, search3)\n",
    "    if bg in bigrams:\n",
    "        questions.append(sublist)    "
   ]
  },
  {
   "cell_type": "code",
   "execution_count": 310,
   "metadata": {},
   "outputs": [
    {
     "data": {
      "text/plain": [
       "0"
      ]
     },
     "execution_count": 310,
     "metadata": {},
     "output_type": "execute_result"
    }
   ],
   "source": [
    "len(questions)"
   ]
  },
  {
   "cell_type": "markdown",
   "metadata": {},
   "source": [
    "## Plot Common Word Frequencies"
   ]
  },
  {
   "cell_type": "code",
   "execution_count": 312,
   "metadata": {},
   "outputs": [
    {
     "data": {
      "text/plain": [
       "['has', 'the', 'united', 'states', 'become']"
      ]
     },
     "execution_count": 312,
     "metadata": {},
     "output_type": "execute_result"
    }
   ],
   "source": [
    "import itertools\n",
    "concatenated_split_train1 = list(itertools.chain.from_iterable(split_train1))\n",
    "concatenated_split_train0 = list(itertools.chain.from_iterable(split_train0))\n",
    "concatenated_split_train1[:5]"
   ]
  },
  {
   "cell_type": "code",
   "execution_count": 315,
   "metadata": {},
   "outputs": [
    {
     "name": "stderr",
     "output_type": "stream",
     "text": [
      "C:\\Users\\chris\\Anaconda2\\lib\\site-packages\\ipykernel_launcher.py:3: UnicodeWarning: Unicode equal comparison failed to convert both arguments to Unicode - interpreting them as being unequal\n",
      "  This is separate from the ipykernel package so we can avoid doing imports until\n",
      "C:\\Users\\chris\\Anaconda2\\lib\\site-packages\\ipykernel_launcher.py:4: UnicodeWarning: Unicode equal comparison failed to convert both arguments to Unicode - interpreting them as being unequal\n",
      "  after removing the cwd from sys.path.\n"
     ]
    }
   ],
   "source": [
    "from nltk.corpus import stopwords\n",
    "s = stopwords.words('english')\n",
    "concatenated_split_train1 = list(filter(lambda x : x not in s, concatenated_split_train1))  # filter out all stop words (e.g. pronouns, articles)\n",
    "concatenated_split_train0 = list(filter(lambda x : x not in s, concatenated_split_train0))"
   ]
  },
  {
   "cell_type": "code",
   "execution_count": 323,
   "metadata": {},
   "outputs": [
    {
     "data": {
      "image/png": "[encoded data removed]",
      "text/plain": [
       "<matplotlib.figure.Figure at 0x7f56b3c8>"
      ]
     },
     "metadata": {},
     "output_type": "display_data"
    }
   ],
   "source": [
    "import matplotlib.pyplot as plt\n",
    "top = pd.Series(concatenated_split_train1).value_counts()[:40] # top 40 words \n",
    "plt.figure(figsize=(15,15))\n",
    "plt.title(\"Top 40 Most Frequent Words - Insincere Questions\", fontsize = 20)\n",
    "plt.yticks(fontsize=14)\n",
    "plt.xticks(fontsize=15)\n",
    "plt.ylabel('Word', fontsize = 17)\n",
    "plt.xlabel('Count', fontsize = 17)\n",
    "top.plot(kind='barh', color = 'teal')\n",
    "plt.show()"
   ]
  },
  {
   "cell_type": "code",
   "execution_count": 304,
   "metadata": {},
   "outputs": [
    {
     "data": {
      "image/png": "[encoded data removed]",
      "text/plain": [
       "<matplotlib.figure.Figure at 0x65a15be0>"
      ]
     },
     "metadata": {},
     "output_type": "display_data"
    }
   ],
   "source": [
    "import matplotlib.pyplot as plt\n",
    "#top = pd.Series(concatenated_split_train0).value_counts()[:40] # top 40 words \n",
    "plt.figure(figsize=(15,15))\n",
    "plt.title(\"Top 40 Most Frequent Words - Sincere Questions\", fontsize = 20)\n",
    "plt.yticks(fontsize=14)\n",
    "plt.xticks(fontsize=15)\n",
    "plt.ylabel('Word', fontsize = 17)\n",
    "plt.xlabel('Count', fontsize = 17)\n",
    "top.plot(kind='barh', color = 'orange')\n",
    "plt.show()"
   ]
  },
  {
   "cell_type": "markdown",
   "metadata": {},
   "source": [
    "# Create Features for Training/Testing Data\n",
    "Our input values will be constructed as follows:\n",
    "* Features = columns\n",
    "* Samples = rows\n",
    "\n",
    "Let's concatenate the questions from the training data and testing data so that we can create the features based on the entire dataset. If we were to do this for the training and testing datasets individually, this would cause errors when we try to predict values from our testing dataset due to different number of dimensions in the number of columns in train compared to test data."
   ]
  },
  {
   "cell_type": "code",
   "execution_count": 316,
   "metadata": {},
   "outputs": [
    {
     "name": "stdout",
     "output_type": "stream",
     "text": [
      "(1362492L,)\n"
     ]
    }
   ],
   "source": [
    "# concatenate train and test\n",
    "import copy\n",
    "import numpy as np\n",
    "X = copy.deepcopy(original_train['question_text'])\n",
    "Z = copy.deepcopy(original_test['question_text'])\n",
    "X = X.append(Z)\n",
    "X= X.reset_index(drop = True)\n",
    "X = np.array(list(map(lambda x: x.lower(), X)))# convert all the values to lowercase so that the stopwords can be filtered better\n",
    "print X.shape # number of samples"
   ]
  },
  {
   "cell_type": "code",
   "execution_count": 317,
   "metadata": {},
   "outputs": [
    {
     "name": "stdout",
     "output_type": "stream",
     "text": [
      "56370\n",
      "0.0413727199866\n"
     ]
    }
   ],
   "source": [
    "print len(Z) # length of test dataset\n",
    "print float(len(Z))/len(X) # proportion of the entire dataset that is testing data"
   ]
  },
  {
   "cell_type": "code",
   "execution_count": 318,
   "metadata": {},
   "outputs": [
    {
     "name": "stdout",
     "output_type": "stream",
     "text": [
      "0.958627280013\n"
     ]
    }
   ],
   "source": [
    "print float(len(X) - len(Z))/len(X) # proportion of the dataset that is training data"
   ]
  },
  {
   "cell_type": "markdown",
   "metadata": {},
   "source": [
    "#### Let's split our training dataset into train and validation"
   ]
  },
  {
   "cell_type": "code",
   "execution_count": 319,
   "metadata": {},
   "outputs": [
    {
     "data": {
      "image/png": "[encoded data removed]",
      "text/plain": [
       "<IPython.core.display.Image object>"
      ]
     },
     "execution_count": 319,
     "metadata": {},
     "output_type": "execute_result"
    }
   ],
   "source": [
    "from IPython.display import Image\n",
    "Image(filename='datasplit.png')\n",
    "# this is how our data will be split"
   ]
  },
  {
   "cell_type": "code",
   "execution_count": 320,
   "metadata": {},
   "outputs": [
    {
     "name": "stdout",
     "output_type": "stream",
     "text": [
      "0.902757594173\n",
      "0.0558696858404\n"
     ]
    }
   ],
   "source": [
    "train_size = 1230000\n",
    "print float(train_size)/len(X) # first 90% will be train data\n",
    "\n",
    "valid_size = len(X) - len(Z)\n",
    "print float(valid_size)/len(X) -  float(train_size)/len(X) # the remaining ~6% will be validation data"
   ]
  },
  {
   "cell_type": "markdown",
   "metadata": {},
   "source": [
    "#### Now, create features through word counts"
   ]
  },
  {
   "cell_type": "code",
   "execution_count": 321,
   "metadata": {
    "collapsed": true
   },
   "outputs": [],
   "source": [
    "# gets word counts of all unique words in the dataset - Bag of Words Representation (order doesn't matter)\n",
    "from sklearn.feature_extraction.text import CountVectorizer\n",
    "count_vect = CountVectorizer(stop_words = 'english') # remove stop_words (e.g. the, a, in, pronouns, etc.)\n",
    "X_train_counts = count_vect.fit_transform(X)"
   ]
  },
  {
   "cell_type": "code",
   "execution_count": 322,
   "metadata": {},
   "outputs": [
    {
     "name": "stdout",
     "output_type": "stream",
     "text": [
      "is gaza slowly becoming auschwitz, dachau or treblinka for palestinians?\n",
      "  (0, 131520)\t1\n",
      "  (0, 180661)\t1\n",
      "  (0, 49324)\t1\n",
      "  (0, 21690)\t1\n",
      "  (0, 163923)\t1\n",
      "  (0, 74503)\t1\n",
      "(1362492, 199138)\n"
     ]
    }
   ],
   "source": [
    "print X[5]\n",
    "print X_train_counts[5]\n",
    "print X_train_counts.shape\n",
    "# ()"
   ]
  },
  {
   "cell_type": "markdown",
   "metadata": {},
   "source": [
    "#### TF-IDF (term frequency- inverse document frequency)\n",
    "* f = frequency of the word in the sample question\n",
    "* t = total number of documents\n",
    "* n = number of documents the word is present in\n",
    "* TF-IDF value = f * log(t/n)\n",
    "\n",
    "For each question, the TF-IDF vector has TF-IDF value for each word among all the documents. This means there will be many 0s in the entries of the sample since several words will not be present in a given question. "
   ]
  },
  {
   "cell_type": "code",
   "execution_count": 191,
   "metadata": {},
   "outputs": [
    {
     "data": {
      "text/plain": [
       "(1362492, 199138)"
      ]
     },
     "execution_count": 191,
     "metadata": {},
     "output_type": "execute_result"
    }
   ],
   "source": [
    "# most of the tf-idf values in this dataset are less than 1, but it's possible for them to exceed 1\n",
    "from sklearn.feature_extraction.text import TfidfTransformer\n",
    "tfidf_transformer = TfidfTransformer()\n",
    "X_train_tfidf = tfidf_transformer.fit_transform(X_train_counts)\n",
    "X_train_tfidf.shape # the shape here is the (num_samples, num_features) where num_features == unique words"
   ]
  },
  {
   "cell_type": "code",
   "execution_count": 192,
   "metadata": {},
   "outputs": [
    {
     "data": {
      "text/plain": [
       "'is gaza slowly becoming auschwitz, dachau or treblinka for palestinians?'"
      ]
     },
     "execution_count": 192,
     "metadata": {},
     "output_type": "execute_result"
    }
   ],
   "source": [
    "X[5] # initial format of question"
   ]
  },
  {
   "cell_type": "code",
   "execution_count": 193,
   "metadata": {},
   "outputs": [
    {
     "name": "stdout",
     "output_type": "stream",
     "text": [
      "[[0. 0. 0. ... 0. 0. 0.]]\n",
      "[[0.41783408 0.47241485 0.37168327 0.3099009  0.32646986 0.51134069]]\n",
      "(1L, 199138L)\n"
     ]
    }
   ],
   "source": [
    "samp = X_train_tfidf[5].todense() # 1 sample - the question converted into a vector of counts and then a vector of word frequencies\n",
    "print samp\n",
    "print samp[samp != 0.0][0,:]\n",
    "print samp.shape"
   ]
  },
  {
   "cell_type": "markdown",
   "metadata": {},
   "source": [
    "# Cross Validation"
   ]
  },
  {
   "cell_type": "code",
   "execution_count": 194,
   "metadata": {
    "collapsed": true
   },
   "outputs": [],
   "source": [
    "from sklearn.naive_bayes import BernoulliNB\n",
    "from sklearn.model_selection import cross_validate\n",
    "scorer = ['accuracy', 'precision', 'recall', 'f1']\n",
    "algorithm = BernoulliNB()\n",
    "num_splits = 5\n",
    "cv_results = cross_validate(algorithm, X_train_tfidf[:len(X) - len(Z)], original_train['target'], scoring = ('accuracy', 'precision', 'recall', 'f1'), cv = num_splits, return_train_score = True)"
   ]
  },
  {
   "cell_type": "code",
   "execution_count": 195,
   "metadata": {},
   "outputs": [
    {
     "data": {
      "text/plain": [
       "['test_f1',\n",
       " 'train_accuracy',\n",
       " 'test_recall',\n",
       " 'score_time',\n",
       " 'train_f1',\n",
       " 'fit_time',\n",
       " 'train_precision',\n",
       " 'test_accuracy',\n",
       " 'train_recall',\n",
       " 'test_precision']"
      ]
     },
     "execution_count": 195,
     "metadata": {},
     "output_type": "execute_result"
    }
   ],
   "source": [
    "cv_results.keys()"
   ]
  },
  {
   "cell_type": "code",
   "execution_count": 196,
   "metadata": {},
   "outputs": [
    {
     "name": "stdout",
     "output_type": "stream",
     "text": [
      "Accuracy: 0.9404489015230952\n",
      "Precision: 0.51905518852574\n",
      "Recall: 0.5101967578270016\n",
      "Harmonic Mean: 0.514585477607519\n"
     ]
    }
   ],
   "source": [
    "num_splits = 5\n",
    "print \"Accuracy: \" + str(sum(cv_results['test_accuracy'])/num_splits)\n",
    "print \"Precision: \" + str(sum(cv_results['test_precision'])/num_splits)\n",
    "print \"Recall: \" + str(sum(cv_results['test_recall'])/num_splits)\n",
    "print \"Harmonic Mean: \" + str(sum(cv_results['test_f1'])/num_splits)"
   ]
  },
  {
   "cell_type": "markdown",
   "metadata": {},
   "source": [
    "# Don't worry about anything below here, I'm still making changes!"
   ]
  },
  {
   "cell_type": "markdown",
   "metadata": {},
   "source": [
    "# Fit Model \n",
    "#### Bernoulli Naive Bayes Classifier \n",
    "Note: I used a BernoulliNB Classifier since other classifiers have a much longer run time or have poorer performance."
   ]
  },
  {
   "cell_type": "code",
   "execution_count": 67,
   "metadata": {
    "collapsed": true
   },
   "outputs": [],
   "source": [
    "# This function displays the metrics for evaluation of the model.\n",
    "from sklearn import metrics\n",
    "def results(expected, actual):\n",
    "    not_equal = actual[actual != expected]\n",
    "    fn = not_equal[not_equal == 0] # false negatives\n",
    "    accuracy = metrics.accuracy_score(expected, actual)\n",
    "    recall = metrics.recall_score(expected, actual)\n",
    "    precision = metrics.precision_score(expected, actual)\n",
    "    harmonic_mean = 2 * (precision * recall) / (precision + recall)\n",
    "\n",
    "    print 'Accuracy Score: ' + str(accuracy) # accuracy score based on our validation data \n",
    "    print 'Recall Score: ' + str(recall)\n",
    "    print 'Precision Score: ' + str(precision)\n",
    "    print 'Harmonic Mean: ' + str(harmonic_mean) + '\\n'\n",
    "    print 'Expected Insincere: ' + str(len(expected[expected == 1])) # insincere\n",
    "    print 'Actual Number Insincere: ' + str(len(actual[actual == 1])) # insincere\n",
    "    print 'Number of False Negatives: ' + str(len(fn))\n",
    "    print 'Actual Number Sincere: ' + str(len(actual[actual == 0])) # sincere\n",
    "    print 'Total: ' + str(len(expected))"
   ]
  },
  {
   "cell_type": "code",
   "execution_count": 68,
   "metadata": {
    "collapsed": true
   },
   "outputs": [],
   "source": [
    "# This function fits the data to a model and yields fitted values from the model\n",
    "def model(alg, x, y, training_size, validation_size):\n",
    "    classifier = alg.fit(x[:training_size], y[:training_size]) \n",
    "    validation = classifier.predict(x[training_size:validation_size]) \n",
    "    predicted = classifier.predict(X_train_tfidf[validation_size:]) # no target data available\n",
    "    results(original_train['target'][training_size:validation_size], validation)\n",
    "    return validation, predicted"
   ]
  },
  {
   "cell_type": "code",
   "execution_count": 69,
   "metadata": {
    "collapsed": true
   },
   "outputs": [],
   "source": [
    "# This function displays some of the sample questions and their predicted target values\n",
    "import numpy as np\n",
    "def display_samples(question_type, x_data, v_size, pred):\n",
    "    if question_type:\n",
    "        indices = np.where(pred == 1)\n",
    "    else: \n",
    "        indices = np.where(pred == 0)\n",
    "    print 'Here are a few samples with their target values.'\n",
    "    count = 0\n",
    "    for i in list(indices[0]):\n",
    "        if count > 10: # display 10 samples\n",
    "            break\n",
    "        print x_data[v_size + i]\n",
    "        print pred[i] \n",
    "        count = count + 1"
   ]
  },
  {
   "cell_type": "markdown",
   "metadata": {},
   "source": [
    "#### Base Model \n",
    "For the base model, let's set all target values to 0, where 0 is the class for sincere questions, since the majority of questions are sincere. You'll see that the number of insincere predicted values is 0. This is because we didn't train on any insincere values. Also, the recall and precision scores are all 0. This is because we did not train on any data where the target value == 1, so it's not possible to have a true positive (value == 1), which is the numerator of the recall and precision scores. \n",
    "* recall = TP / TP + FN\n",
    "* precision = TP / TP + FP"
   ]
  },
  {
   "cell_type": "code",
   "execution_count": 85,
   "metadata": {},
   "outputs": [
    {
     "name": "stdout",
     "output_type": "stream",
     "text": [
      "Accuracy Score: 0.9379154515120465\n",
      "Recall Score: 0.0\n",
      "Precision Score: 0.0\n",
      "Harmonic Mean: nan\n",
      "\n",
      "Expected Insincere: 4726\n",
      "Actual Number Insincere: 0\n",
      "Number of False Negatives: 4726\n",
      "Actual Number Sincere: 76122\n",
      "Total: 76122\n"
     ]
    },
    {
     "name": "stderr",
     "output_type": "stream",
     "text": [
      "C:\\Users\\chris\\Anaconda2\\lib\\site-packages\\ipykernel_launcher.py:9: RuntimeWarning: invalid value encountered in double_scalars\n",
      "  if __name__ == '__main__':\n"
     ]
    }
   ],
   "source": [
    "from sklearn.naive_bayes import BernoulliNB\n",
    "algorithm = BernoulliNB()\n",
    "y_base = list(copy.deepcopy(original_train['target'][:train_size]))\n",
    "y_base = list(map(lambda x: x*0, y_base))\n",
    "y_valid, y_pred = model(algorithm, X_train_tfidf, y_base, train_size, valid_size)   "
   ]
  },
  {
   "cell_type": "markdown",
   "metadata": {},
   "source": [
    "#### Model With Observed Data\n",
    "Now, let's see how the model performs on our observed data."
   ]
  },
  {
   "cell_type": "code",
   "execution_count": 112,
   "metadata": {},
   "outputs": [
    {
     "name": "stdout",
     "output_type": "stream",
     "text": [
      "Accuracy Score: 0.938677386300938\n",
      "Recall Score: 0.5414727041895895\n",
      "Precision Score: 0.5057312252964427\n",
      "Harmonic Mean: 0.5229920294297976\n",
      "\n",
      "Expected Insincere: 4726\n",
      "Actual Number Insincere: 5060\n",
      "Number of False Negatives: 2167\n",
      "Actual Number Sincere: 71062\n",
      "Total: 76122\n"
     ]
    }
   ],
   "source": [
    "from sklearn.naive_bayes import BernoulliNB\n",
    "algorithm = BernoulliNB()\n",
    "y_valid, y_pred = model(algorithm, X_train_tfidf, original_train['target'], train_size, valid_size) \n",
    "# we want all of the proportions below to be as close to 1 as possible"
   ]
  },
  {
   "cell_type": "code",
   "execution_count": 234,
   "metadata": {
    "collapsed": true
   },
   "outputs": [],
   "source": [
    "# This function displays questions which were predicted to be sincere but Quora deems them to be insincere \n",
    "def display_false_negatives(expected, actual, input_questions, index):\n",
    "    fn_indices = list(np.where((actual != expected) & (actual == 0))[0])\n",
    "    print np.take(list(input_questions), fn_indices)[index]"
   ]
  },
  {
   "cell_type": "code",
   "execution_count": 235,
   "metadata": {},
   "outputs": [
    {
     "name": "stdout",
     "output_type": "stream",
     "text": [
      "Did President Obama insert a sleeper agent in the White House right before he left office?\n"
     ]
    }
   ],
   "source": [
    "display_false_negatives(original_train['target'][train_size:valid_size], y_valid, X[train_size:valid_size], index = 0)\n",
    "# change the index to see different samples"
   ]
  },
  {
   "cell_type": "markdown",
   "metadata": {},
   "source": [
    "#### Display Results\n",
    "Let's see some of our samples from the testing data (includes input and output values)"
   ]
  },
  {
   "cell_type": "code",
   "execution_count": null,
   "metadata": {
    "collapsed": true
   },
   "outputs": [],
   "source": [
    "# display insincere samples\n",
    "display_samples(1, X, valid_size, y_pred)"
   ]
  },
  {
   "cell_type": "code",
   "execution_count": null,
   "metadata": {
    "collapsed": true
   },
   "outputs": [],
   "source": [
    "# display sincere samples\n",
    "display_samples(0, X, valid_size, y_pred)"
   ]
  },
  {
   "cell_type": "markdown",
   "metadata": {},
   "source": [
    "# Future Work"
   ]
  },
  {
   "cell_type": "markdown",
   "metadata": {},
   "source": [
    "#### To improve performance:"
   ]
  },
  {
   "cell_type": "code",
   "execution_count": null,
   "metadata": {
    "collapsed": true
   },
   "outputs": [],
   "source": [
    "# TODO: create features with n-grams (instead of using words as feature columns, use phrases with n words)"
   ]
  },
  {
   "cell_type": "code",
   "execution_count": null,
   "metadata": {
    "collapsed": true
   },
   "outputs": [],
   "source": [
    "# TODO: try different models if the runtime isn't too long\n",
    "# try SVM, it generally has good performance for most classification problems"
   ]
  },
  {
   "cell_type": "markdown",
   "metadata": {},
   "source": [
    "#### To explore and visualize the data:"
   ]
  },
  {
   "cell_type": "code",
   "execution_count": null,
   "metadata": {
    "collapsed": true
   },
   "outputs": [],
   "source": [
    "# bigram & trigram plots"
   ]
  },
  {
   "cell_type": "code",
   "execution_count": null,
   "metadata": {
    "collapsed": true
   },
   "outputs": [],
   "source": [
    "# implement ROC curve for each of our cross validation datasets"
   ]
  },
  {
   "cell_type": "code",
   "execution_count": null,
   "metadata": {
    "collapsed": true
   },
   "outputs": [],
   "source": [
    "# how many inscinere/sincere questions has a particular word?"
   ]
  },
  {
   "cell_type": "code",
   "execution_count": null,
   "metadata": {
    "collapsed": true
   },
   "outputs": [],
   "source": [
    "# which words produce the highest precision? recall? as in search for all the sentences with 'blacks' - call them insincere"
   ]
  },
  {
   "cell_type": "code",
   "execution_count": null,
   "metadata": {
    "collapsed": true
   },
   "outputs": [],
   "source": [
    "# TODO: group questions into themes: e.g. racism, sexism, homophobic, sexuality, religious intolerance, \n",
    "# prejudice towards immigrants, unproductive political criticism\n",
    "# Visualize this data\n",
    "# Show percentages of each type\n",
    "\n",
    "# what we define these themes to be: \n",
    "    # look for all insincere questions that include a word denoting an ethnic group (e.g. blacks, jews, muslims)\n",
    "    # look for all insincere questions that include a word denoting a sex(e.g. woman, women, man, men)\n",
    "    # look for all insincere questions that include a word denoting a sexual preference(e.g gay, homo, fag, trans, transgender, LGBTQ)\n",
    "    # look for all insincere questions that include a word denoting a religious group*( e.g. religious people, jews, muslims, christians)\n",
    "    # look for all insincere questions that include a word denoting a sexual term (sexy, gay, kiss, etc.)\n",
    "    # look for all insincere questions that include a word denoting immigrants (immigrants, fabs, fresh off the boat)\n",
    "    # look for all insincere questions that include words(s) or phrases(s) denoting a politcal topic (liberals, libs, libtards, democrats, republicans, conservatives, nazis, neo-nazis, president's name, politcal commentators, etc.)"
   ]
  },
  {
   "cell_type": "code",
   "execution_count": null,
   "metadata": {
    "collapsed": true
   },
   "outputs": [],
   "source": [
    "# larger question for discussion section: although people make such discriminatory remarks, should we censor the online public?\n",
    "# what are the implications of online censorship? \n",
    "    # Argument against censorship: people have dark, deep thoughts that may be contentious but perhaps they truly believe \n",
    "    # those thoughts and are genuinely curious. The online public could offer a medium to express and discuss those thoughts. \n",
    "    # One key advantage of online forums is the option to be anonymous, which makes one more open to share dark ideas. "
   ]
  }
 ],
 "metadata": {
  "kernelspec": {
   "display_name": "Python 2",
   "language": "python",
   "name": "python2"
  },
  "language_info": {
   "codemirror_mode": {
    "name": "ipython",
    "version": 2
   },
   "file_extension": ".py",
   "mimetype": "text/x-python",
   "name": "python",
   "nbconvert_exporter": "python",
   "pygments_lexer": "ipython2",
   "version": "2.7.14"
  }
 },
 "nbformat": 4,
 "nbformat_minor": 2
}
