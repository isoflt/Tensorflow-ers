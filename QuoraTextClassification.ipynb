{
 "cells": [
  {
   "cell_type": "code",
   "execution_count": null,
   "metadata": {
    "collapsed": true
   },
   "outputs": [],
   "source": [
    "import pandas as pd"
   ]
  },
  {
   "cell_type": "code",
   "execution_count": null,
   "metadata": {
    "collapsed": true
   },
   "outputs": [],
   "source": [
    "original_train = pd.read_csv('QuoraQuestions/train.csv')\n",
    "original_test = pd.read_csv('QuoraQuestions/test.csv')"
   ]
  },
  {
   "cell_type": "code",
   "execution_count": 3,
   "metadata": {},
   "outputs": [
    {
     "data": {
      "text/html": [
       "<div>\n",
       "<style>\n",
       "    .dataframe thead tr:only-child th {\n",
       "        text-align: right;\n",
       "    }\n",
       "\n",
       "    .dataframe thead th {\n",
       "        text-align: left;\n",
       "    }\n",
       "\n",
       "    .dataframe tbody tr th {\n",
       "        vertical-align: top;\n",
       "    }\n",
       "</style>\n",
       "<table border=\"1\" class=\"dataframe\">\n",
       "  <thead>\n",
       "    <tr style=\"text-align: right;\">\n",
       "      <th></th>\n",
       "      <th>qid</th>\n",
       "      <th>question_text</th>\n",
       "      <th>target</th>\n",
       "    </tr>\n",
       "  </thead>\n",
       "  <tbody>\n",
       "    <tr>\n",
       "      <th>0</th>\n",
       "      <td>00002165364db923c7e6</td>\n",
       "      <td>How did Quebec nationalists see their province...</td>\n",
       "      <td>0</td>\n",
       "    </tr>\n",
       "    <tr>\n",
       "      <th>1</th>\n",
       "      <td>000032939017120e6e44</td>\n",
       "      <td>Do you have an adopted dog, how would you enco...</td>\n",
       "      <td>0</td>\n",
       "    </tr>\n",
       "    <tr>\n",
       "      <th>2</th>\n",
       "      <td>0000412ca6e4628ce2cf</td>\n",
       "      <td>Why does velocity affect time? Does velocity a...</td>\n",
       "      <td>0</td>\n",
       "    </tr>\n",
       "    <tr>\n",
       "      <th>3</th>\n",
       "      <td>000042bf85aa498cd78e</td>\n",
       "      <td>How did Otto von Guericke used the Magdeburg h...</td>\n",
       "      <td>0</td>\n",
       "    </tr>\n",
       "    <tr>\n",
       "      <th>4</th>\n",
       "      <td>0000455dfa3e01eae3af</td>\n",
       "      <td>Can I convert montra helicon D to a mountain b...</td>\n",
       "      <td>0</td>\n",
       "    </tr>\n",
       "  </tbody>\n",
       "</table>\n",
       "</div>"
      ],
      "text/plain": [
       "                    qid                                      question_text  \\\n",
       "0  00002165364db923c7e6  How did Quebec nationalists see their province...   \n",
       "1  000032939017120e6e44  Do you have an adopted dog, how would you enco...   \n",
       "2  0000412ca6e4628ce2cf  Why does velocity affect time? Does velocity a...   \n",
       "3  000042bf85aa498cd78e  How did Otto von Guericke used the Magdeburg h...   \n",
       "4  0000455dfa3e01eae3af  Can I convert montra helicon D to a mountain b...   \n",
       "\n",
       "   target  \n",
       "0       0  \n",
       "1       0  \n",
       "2       0  \n",
       "3       0  \n",
       "4       0  "
      ]
     },
     "execution_count": 3,
     "metadata": {},
     "output_type": "execute_result"
    }
   ],
   "source": [
    "original_train.head()"
   ]
  },
  {
   "cell_type": "code",
   "execution_count": 7,
   "metadata": {},
   "outputs": [
    {
     "data": {
      "text/html": [
       "<div>\n",
       "<style>\n",
       "    .dataframe thead tr:only-child th {\n",
       "        text-align: right;\n",
       "    }\n",
       "\n",
       "    .dataframe thead th {\n",
       "        text-align: left;\n",
       "    }\n",
       "\n",
       "    .dataframe tbody tr th {\n",
       "        vertical-align: top;\n",
       "    }\n",
       "</style>\n",
       "<table border=\"1\" class=\"dataframe\">\n",
       "  <thead>\n",
       "    <tr style=\"text-align: right;\">\n",
       "      <th></th>\n",
       "      <th>qid</th>\n",
       "      <th>question_text</th>\n",
       "    </tr>\n",
       "  </thead>\n",
       "  <tbody>\n",
       "    <tr>\n",
       "      <th>0</th>\n",
       "      <td>00014894849d00ba98a9</td>\n",
       "      <td>My voice range is A2-C5. My chest voice goes u...</td>\n",
       "    </tr>\n",
       "    <tr>\n",
       "      <th>1</th>\n",
       "      <td>000156468431f09b3cae</td>\n",
       "      <td>How much does a tutor earn in Bangalore?</td>\n",
       "    </tr>\n",
       "    <tr>\n",
       "      <th>2</th>\n",
       "      <td>000227734433360e1aae</td>\n",
       "      <td>What are the best made pocket knives under $20...</td>\n",
       "    </tr>\n",
       "    <tr>\n",
       "      <th>3</th>\n",
       "      <td>0005e06fbe3045bd2a92</td>\n",
       "      <td>Why would they add a hypothetical scenario tha...</td>\n",
       "    </tr>\n",
       "    <tr>\n",
       "      <th>4</th>\n",
       "      <td>00068a0f7f41f50fc399</td>\n",
       "      <td>What is the dresscode for Techmahindra freshers?</td>\n",
       "    </tr>\n",
       "  </tbody>\n",
       "</table>\n",
       "</div>"
      ],
      "text/plain": [
       "                    qid                                      question_text\n",
       "0  00014894849d00ba98a9  My voice range is A2-C5. My chest voice goes u...\n",
       "1  000156468431f09b3cae           How much does a tutor earn in Bangalore?\n",
       "2  000227734433360e1aae  What are the best made pocket knives under $20...\n",
       "3  0005e06fbe3045bd2a92  Why would they add a hypothetical scenario tha...\n",
       "4  00068a0f7f41f50fc399   What is the dresscode for Techmahindra freshers?"
      ]
     },
     "execution_count": 7,
     "metadata": {},
     "output_type": "execute_result"
    }
   ],
   "source": [
    "original_test.head()"
   ]
  },
  {
   "cell_type": "code",
   "execution_count": 9,
   "metadata": {},
   "outputs": [
    {
     "data": {
      "text/plain": [
       "80810"
      ]
     },
     "execution_count": 9,
     "metadata": {},
     "output_type": "execute_result"
    }
   ],
   "source": [
    "len(original_train[original_train['target'] == 1])"
   ]
  },
  {
   "cell_type": "code",
   "execution_count": 16,
   "metadata": {},
   "outputs": [
    {
     "data": {
      "text/plain": [
       "'Which babies are more sweeter to their parents? Dark skin babies or light skin babies?'"
      ]
     },
     "execution_count": 16,
     "metadata": {},
     "output_type": "execute_result"
    }
   ],
   "source": [
    "original_train[original_train['target'] == 1].head()['question_text'][30] # definitively insincere"
   ]
  },
  {
   "cell_type": "code",
   "execution_count": 21,
   "metadata": {},
   "outputs": [
    {
     "data": {
      "text/plain": [
       "\"If blacks support school choice and mandatory sentencing for criminals why don't they vote Republican?\""
      ]
     },
     "execution_count": 21,
     "metadata": {},
     "output_type": "execute_result"
    }
   ],
   "source": [
    "original_train[original_train['target'] == 1].head()['question_text'][110] # on the cusp - could be considered insincere bc \"blacks\" is not necessarily PC"
   ]
  },
  {
   "cell_type": "code",
   "execution_count": 22,
   "metadata": {},
   "outputs": [
    {
     "data": {
      "text/plain": [
       "'I am gay boy and I love my cousin (boy). He is sexy, but I dont know what to do. He is hot, and I want to see his di**. What should I do?'"
      ]
     },
     "execution_count": 22,
     "metadata": {},
     "output_type": "execute_result"
    }
   ],
   "source": [
    "original_train[original_train['target'] == 1].head()['question_text'][114] # lascivious and this is borderline incest"
   ]
  },
  {
   "cell_type": "code",
   "execution_count": 20,
   "metadata": {},
   "outputs": [
    {
     "data": {
      "text/plain": [
       "'Which races have the smallest penis?'"
      ]
     },
     "execution_count": 20,
     "metadata": {},
     "output_type": "execute_result"
    }
   ],
   "source": [
    "original_train[original_train['target'] == 1].head()['question_text'][115] # definitely insincere"
   ]
  },
  {
   "cell_type": "code",
   "execution_count": 25,
   "metadata": {},
   "outputs": [
    {
     "data": {
      "text/plain": [
       "'How is it to have intimate relation with your cousin?'"
      ]
     },
     "execution_count": 25,
     "metadata": {},
     "output_type": "execute_result"
    }
   ],
   "source": [
    "original_train[original_train['target'] == 1].tail()['question_text'][1306093] # part 2 - incest"
   ]
  },
  {
   "cell_type": "code",
   "execution_count": 27,
   "metadata": {},
   "outputs": [
    {
     "data": {
      "text/plain": [
       "'Do pakis smell of curry and shit?'"
      ]
     },
     "execution_count": 27,
     "metadata": {},
     "output_type": "execute_result"
    }
   ],
   "source": [
    "original_train[original_train['target'] == 1].tail()['question_text'][1306099] # racist towards pakistani people"
   ]
  },
  {
   "cell_type": "code",
   "execution_count": 26,
   "metadata": {},
   "outputs": [
    {
     "data": {
      "text/plain": [
       "'Why is it when singers have lyrics about voices in their head, religious people say they hear god and anyone stating they are being targeted by voice to brain technology? Are they called delusional schizo?'"
      ]
     },
     "execution_count": 26,
     "metadata": {},
     "output_type": "execute_result"
    }
   ],
   "source": [
    "original_train[original_train['target'] == 1].tail()['question_text'][1306094] # provocative and trying to make a statement"
   ]
  },
  {
   "cell_type": "code",
   "execution_count": 4,
   "metadata": {
    "collapsed": true
   },
   "outputs": [],
   "source": [
    "split_train = list(map(lambda x : x.split(), original_train[original_train['target'] == 1]['question_text']))"
   ]
  },
  {
   "cell_type": "code",
   "execution_count": 5,
   "metadata": {},
   "outputs": [
    {
     "data": {
      "text/plain": [
       "[['Has',\n",
       "  'the',\n",
       "  'United',\n",
       "  'States',\n",
       "  'become',\n",
       "  'the',\n",
       "  'largest',\n",
       "  'dictatorship',\n",
       "  'in',\n",
       "  'the',\n",
       "  'world?'],\n",
       " ['Which',\n",
       "  'babies',\n",
       "  'are',\n",
       "  'more',\n",
       "  'sweeter',\n",
       "  'to',\n",
       "  'their',\n",
       "  'parents?',\n",
       "  'Dark',\n",
       "  'skin',\n",
       "  'babies',\n",
       "  'or',\n",
       "  'light',\n",
       "  'skin',\n",
       "  'babies?'],\n",
       " ['If',\n",
       "  'blacks',\n",
       "  'support',\n",
       "  'school',\n",
       "  'choice',\n",
       "  'and',\n",
       "  'mandatory',\n",
       "  'sentencing',\n",
       "  'for',\n",
       "  'criminals',\n",
       "  'why',\n",
       "  \"don't\",\n",
       "  'they',\n",
       "  'vote',\n",
       "  'Republican?'],\n",
       " ['I',\n",
       "  'am',\n",
       "  'gay',\n",
       "  'boy',\n",
       "  'and',\n",
       "  'I',\n",
       "  'love',\n",
       "  'my',\n",
       "  'cousin',\n",
       "  '(boy).',\n",
       "  'He',\n",
       "  'is',\n",
       "  'sexy,',\n",
       "  'but',\n",
       "  'I',\n",
       "  'dont',\n",
       "  'know',\n",
       "  'what',\n",
       "  'to',\n",
       "  'do.',\n",
       "  'He',\n",
       "  'is',\n",
       "  'hot,',\n",
       "  'and',\n",
       "  'I',\n",
       "  'want',\n",
       "  'to',\n",
       "  'see',\n",
       "  'his',\n",
       "  'di**.',\n",
       "  'What',\n",
       "  'should',\n",
       "  'I',\n",
       "  'do?'],\n",
       " ['Which', 'races', 'have', 'the', 'smallest', 'penis?'],\n",
       " ['Why', 'do', 'females', 'find', 'penises', 'ugly?'],\n",
       " ['How',\n",
       "  'do',\n",
       "  'I',\n",
       "  'marry',\n",
       "  'an',\n",
       "  'American',\n",
       "  'woman',\n",
       "  'for',\n",
       "  'a',\n",
       "  'Green',\n",
       "  'Card?',\n",
       "  'How',\n",
       "  'much',\n",
       "  'do',\n",
       "  'they',\n",
       "  'charge?'],\n",
       " ['Why',\n",
       "  'do',\n",
       "  'Europeans',\n",
       "  'say',\n",
       "  \"they're\",\n",
       "  'the',\n",
       "  'superior',\n",
       "  'race,',\n",
       "  'when',\n",
       "  'in',\n",
       "  'fact',\n",
       "  'it',\n",
       "  'took',\n",
       "  'them',\n",
       "  'over',\n",
       "  '2,000',\n",
       "  'years',\n",
       "  'until',\n",
       "  'mid',\n",
       "  '19th',\n",
       "  'century',\n",
       "  'to',\n",
       "  'surpass',\n",
       "  \"China's\",\n",
       "  'largest',\n",
       "  'economy?'],\n",
       " ['Did',\n",
       "  'Julius',\n",
       "  'Caesar',\n",
       "  'bring',\n",
       "  'a',\n",
       "  'tyrannosaurus',\n",
       "  'rex',\n",
       "  'on',\n",
       "  'his',\n",
       "  'campaigns',\n",
       "  'to',\n",
       "  'frighten',\n",
       "  'the',\n",
       "  'Celts',\n",
       "  'into',\n",
       "  'submission?'],\n",
       " ['In',\n",
       "  'what',\n",
       "  'manner',\n",
       "  'has',\n",
       "  'Republican',\n",
       "  'backing',\n",
       "  'of',\n",
       "  \"'states\",\n",
       "  \"rights'\",\n",
       "  'been',\n",
       "  'hypocritical',\n",
       "  'and',\n",
       "  'what',\n",
       "  'ways',\n",
       "  'have',\n",
       "  'they',\n",
       "  'actually',\n",
       "  'restricted',\n",
       "  'the',\n",
       "  'ability',\n",
       "  'of',\n",
       "  'states',\n",
       "  'to',\n",
       "  'make',\n",
       "  'their',\n",
       "  'own',\n",
       "  'laws?']]"
      ]
     },
     "execution_count": 5,
     "metadata": {},
     "output_type": "execute_result"
    }
   ],
   "source": [
    "split_train[:10]"
   ]
  },
  {
   "cell_type": "code",
   "execution_count": null,
   "metadata": {
    "collapsed": true
   },
   "outputs": [],
   "source": [
    "split_train__concatenated = sum(split_train, [])\n",
    "split_train_concatenated[:10]"
   ]
  },
  {
   "cell_type": "code",
   "execution_count": 32,
   "metadata": {},
   "outputs": [],
   "source": [
    "import itertools\n",
    "concatenated_split_train = list(itertools.chain.from_iterable(split_train))"
   ]
  },
  {
   "cell_type": "code",
   "execution_count": 36,
   "metadata": {},
   "outputs": [
    {
     "name": "stderr",
     "output_type": "stream",
     "text": [
      "C:\\Users\\chris\\Anaconda2\\lib\\site-packages\\ipykernel_launcher.py:3: UnicodeWarning: Unicode equal comparison failed to convert both arguments to Unicode - interpreting them as being unequal\n",
      "  This is separate from the ipykernel package so we can avoid doing imports until\n"
     ]
    }
   ],
   "source": [
    "from nltk.corpus import stopwords\n",
    "s = stopwords.words('english')\n",
    "concatenated_split_train = list(filter(lambda x : x not in s, concatenated_split_train))  # filter out all stop words (e.g. pronouns, articles)"
   ]
  },
  {
   "cell_type": "code",
   "execution_count": 42,
   "metadata": {},
   "outputs": [
    {
     "data": {
      "text/plain": [
       "Why              32669\n",
       "I                11235\n",
       "people           10864\n",
       "Is                8394\n",
       "How               7510\n",
       "What              6105\n",
       "Do                5654\n",
       "like              5638\n",
       "Trump             4701\n",
       "women             4636\n",
       "Are               4609\n",
       "think             3758\n",
       "If                3688\n",
       "many              3471\n",
       "get               3152\n",
       "would             3121\n",
       "men               3047\n",
       "Indian            2964\n",
       "white             2911\n",
       "Muslims           2798\n",
       "Quora             2540\n",
       "Americans         2473\n",
       "want              2330\n",
       "black             2330\n",
       "hate              2145\n",
       "Indians           2103\n",
       "girls             2063\n",
       "India             2037\n",
       "sex               2027\n",
       "make              1924\n",
       "                 ...  \n",
       "us                 545\n",
       "In                 543\n",
       "year               541\n",
       "big                541\n",
       "help               540\n",
       "My                 537\n",
       "religion           534\n",
       "African            534\n",
       "accept             532\n",
       "eat                530\n",
       "claim              528\n",
       "getting            528\n",
       "trying             527\n",
       "conservatives      526\n",
       "left               515\n",
       "life               506\n",
       "liberal            502\n",
       "Have               500\n",
       "Which              499\n",
       "try                495\n",
       "As                 495\n",
       "Russian            494\n",
       "first              492\n",
       "put                489\n",
       "allowed            489\n",
       "things             486\n",
       "It                 485\n",
       "Trump's            482\n",
       "majority           482\n",
       "Christian          480\n",
       "Length: 200, dtype: int64"
      ]
     },
     "execution_count": 42,
     "metadata": {},
     "output_type": "execute_result"
    }
   ],
   "source": [
    "pd.Series(concatenated_split_train).value_counts()[:200] # top 200 words "
   ]
  },
  {
   "cell_type": "code",
   "execution_count": 47,
   "metadata": {},
   "outputs": [],
   "source": [
    "from sklearn.feature_extraction.text import CountVectorizer\n",
    "# use vectorizer to one hot encode the top 100 most common words in insincere questions among all the questions\n",
    "# this will be used in training set, so that at prediction time the algorithm looks for questions with these words"
   ]
  }
 ],
 "metadata": {
  "kernelspec": {
   "display_name": "Python 2",
   "language": "python",
   "name": "python2"
  },
  "language_info": {
   "codemirror_mode": {
    "name": "ipython",
    "version": 2
   },
   "file_extension": ".py",
   "mimetype": "text/x-python",
   "name": "python",
   "nbconvert_exporter": "python",
   "pygments_lexer": "ipython2",
   "version": "2.7.14"
  }
 },
 "nbformat": 4,
 "nbformat_minor": 2
}
