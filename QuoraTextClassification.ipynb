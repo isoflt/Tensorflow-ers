{
 "cells": [
  {
   "cell_type": "code",
<<<<<<< HEAD
   "execution_count": null,
   "metadata": {
    "collapsed": true
   },
=======
   "execution_count": 1,
   "metadata": {},
>>>>>>> origin/master
   "outputs": [],
   "source": [
    "import pandas as pd"
   ]
  },
  {
   "cell_type": "code",
<<<<<<< HEAD
   "execution_count": null,
   "metadata": {
    "collapsed": true
   },
=======
   "execution_count": 2,
   "metadata": {},
>>>>>>> origin/master
   "outputs": [],
   "source": [
    "original_train = pd.read_csv('~/Desktop/train.csv')\n",
    "original_test = pd.read_csv('~/Desktop/test.csv')"
   ]
  },
  {
   "cell_type": "code",
<<<<<<< HEAD
   "execution_count": null,
   "metadata": {},
   "outputs": [],
=======
   "execution_count": 3,
   "metadata": {},
   "outputs": [
    {
     "data": {
      "text/html": [
       "<div>\n",
       "<style scoped>\n",
       "    .dataframe tbody tr th:only-of-type {\n",
       "        vertical-align: middle;\n",
       "    }\n",
       "\n",
       "    .dataframe tbody tr th {\n",
       "        vertical-align: top;\n",
       "    }\n",
       "\n",
       "    .dataframe thead th {\n",
       "        text-align: right;\n",
       "    }\n",
       "</style>\n",
       "<table border=\"1\" class=\"dataframe\">\n",
       "  <thead>\n",
       "    <tr style=\"text-align: right;\">\n",
       "      <th></th>\n",
       "      <th>qid</th>\n",
       "      <th>question_text</th>\n",
       "      <th>target</th>\n",
       "    </tr>\n",
       "  </thead>\n",
       "  <tbody>\n",
       "    <tr>\n",
       "      <th>0</th>\n",
       "      <td>00002165364db923c7e6</td>\n",
       "      <td>How did Quebec nationalists see their province...</td>\n",
       "      <td>0</td>\n",
       "    </tr>\n",
       "    <tr>\n",
       "      <th>1</th>\n",
       "      <td>000032939017120e6e44</td>\n",
       "      <td>Do you have an adopted dog, how would you enco...</td>\n",
       "      <td>0</td>\n",
       "    </tr>\n",
       "    <tr>\n",
       "      <th>2</th>\n",
       "      <td>0000412ca6e4628ce2cf</td>\n",
       "      <td>Why does velocity affect time? Does velocity a...</td>\n",
       "      <td>0</td>\n",
       "    </tr>\n",
       "    <tr>\n",
       "      <th>3</th>\n",
       "      <td>000042bf85aa498cd78e</td>\n",
       "      <td>How did Otto von Guericke used the Magdeburg h...</td>\n",
       "      <td>0</td>\n",
       "    </tr>\n",
       "    <tr>\n",
       "      <th>4</th>\n",
       "      <td>0000455dfa3e01eae3af</td>\n",
       "      <td>Can I convert montra helicon D to a mountain b...</td>\n",
       "      <td>0</td>\n",
       "    </tr>\n",
       "  </tbody>\n",
       "</table>\n",
       "</div>"
      ],
      "text/plain": [
       "                    qid                                      question_text  \\\n",
       "0  00002165364db923c7e6  How did Quebec nationalists see their province...   \n",
       "1  000032939017120e6e44  Do you have an adopted dog, how would you enco...   \n",
       "2  0000412ca6e4628ce2cf  Why does velocity affect time? Does velocity a...   \n",
       "3  000042bf85aa498cd78e  How did Otto von Guericke used the Magdeburg h...   \n",
       "4  0000455dfa3e01eae3af  Can I convert montra helicon D to a mountain b...   \n",
       "\n",
       "   target  \n",
       "0       0  \n",
       "1       0  \n",
       "2       0  \n",
       "3       0  \n",
       "4       0  "
      ]
     },
     "execution_count": 3,
     "metadata": {},
     "output_type": "execute_result"
    }
   ],
>>>>>>> origin/master
   "source": [
    "original_train.head()"
   ]
  },
  {
   "cell_type": "code",
<<<<<<< HEAD
   "execution_count": null,
   "metadata": {
    "scrolled": true
   },
   "outputs": [],
=======
   "execution_count": 4,
   "metadata": {
    "scrolled": true
   },
   "outputs": [
    {
     "data": {
      "text/html": [
       "<div>\n",
       "<style scoped>\n",
       "    .dataframe tbody tr th:only-of-type {\n",
       "        vertical-align: middle;\n",
       "    }\n",
       "\n",
       "    .dataframe tbody tr th {\n",
       "        vertical-align: top;\n",
       "    }\n",
       "\n",
       "    .dataframe thead th {\n",
       "        text-align: right;\n",
       "    }\n",
       "</style>\n",
       "<table border=\"1\" class=\"dataframe\">\n",
       "  <thead>\n",
       "    <tr style=\"text-align: right;\">\n",
       "      <th></th>\n",
       "      <th>qid</th>\n",
       "      <th>question_text</th>\n",
       "    </tr>\n",
       "  </thead>\n",
       "  <tbody>\n",
       "    <tr>\n",
       "      <th>0</th>\n",
       "      <td>00014894849d00ba98a9</td>\n",
       "      <td>My voice range is A2-C5. My chest voice goes u...</td>\n",
       "    </tr>\n",
       "    <tr>\n",
       "      <th>1</th>\n",
       "      <td>000156468431f09b3cae</td>\n",
       "      <td>How much does a tutor earn in Bangalore?</td>\n",
       "    </tr>\n",
       "    <tr>\n",
       "      <th>2</th>\n",
       "      <td>000227734433360e1aae</td>\n",
       "      <td>What are the best made pocket knives under $20...</td>\n",
       "    </tr>\n",
       "    <tr>\n",
       "      <th>3</th>\n",
       "      <td>0005e06fbe3045bd2a92</td>\n",
       "      <td>Why would they add a hypothetical scenario tha...</td>\n",
       "    </tr>\n",
       "    <tr>\n",
       "      <th>4</th>\n",
       "      <td>00068a0f7f41f50fc399</td>\n",
       "      <td>What is the dresscode for Techmahindra freshers?</td>\n",
       "    </tr>\n",
       "  </tbody>\n",
       "</table>\n",
       "</div>"
      ],
      "text/plain": [
       "                    qid                                      question_text\n",
       "0  00014894849d00ba98a9  My voice range is A2-C5. My chest voice goes u...\n",
       "1  000156468431f09b3cae           How much does a tutor earn in Bangalore?\n",
       "2  000227734433360e1aae  What are the best made pocket knives under $20...\n",
       "3  0005e06fbe3045bd2a92  Why would they add a hypothetical scenario tha...\n",
       "4  00068a0f7f41f50fc399   What is the dresscode for Techmahindra freshers?"
      ]
     },
     "execution_count": 4,
     "metadata": {},
     "output_type": "execute_result"
    }
   ],
>>>>>>> origin/master
   "source": [
    "original_test.head()"
   ]
  },
  {
   "cell_type": "code",
<<<<<<< HEAD
   "execution_count": null,
   "metadata": {},
   "outputs": [],
=======
   "execution_count": 5,
   "metadata": {},
   "outputs": [
    {
     "data": {
      "text/plain": [
       "80810"
      ]
     },
     "execution_count": 5,
     "metadata": {},
     "output_type": "execute_result"
    }
   ],
>>>>>>> origin/master
   "source": [
    "len(original_train[original_train['target'] == 1])"
   ]
  },
  {
   "cell_type": "code",
<<<<<<< HEAD
   "execution_count": null,
   "metadata": {},
   "outputs": [],
=======
   "execution_count": 6,
   "metadata": {},
   "outputs": [
    {
     "data": {
      "text/plain": [
       "'Which babies are more sweeter to their parents? Dark skin babies or light skin babies?'"
      ]
     },
     "execution_count": 6,
     "metadata": {},
     "output_type": "execute_result"
    }
   ],
>>>>>>> origin/master
   "source": [
    "original_train[original_train['target'] == 1].head()['question_text'][30] # definitively insincere"
   ]
  },
  {
   "cell_type": "code",
<<<<<<< HEAD
   "execution_count": null,
   "metadata": {},
   "outputs": [],
=======
   "execution_count": 7,
   "metadata": {},
   "outputs": [
    {
     "data": {
      "text/plain": [
       "\"If blacks support school choice and mandatory sentencing for criminals why don't they vote Republican?\""
      ]
     },
     "execution_count": 7,
     "metadata": {},
     "output_type": "execute_result"
    }
   ],
>>>>>>> origin/master
   "source": [
    "original_train[original_train['target'] == 1].head()['question_text'][110] # on the cusp - could be considered insincere bc \"blacks\" is not necessarily PC"
   ]
  },
  {
   "cell_type": "code",
<<<<<<< HEAD
   "execution_count": null,
   "metadata": {},
   "outputs": [],
=======
   "execution_count": 8,
   "metadata": {},
   "outputs": [
    {
     "data": {
      "text/plain": [
       "'I am gay boy and I love my cousin (boy). He is sexy, but I dont know what to do. He is hot, and I want to see his di**. What should I do?'"
      ]
     },
     "execution_count": 8,
     "metadata": {},
     "output_type": "execute_result"
    }
   ],
>>>>>>> origin/master
   "source": [
    "original_train[original_train['target'] == 1].head()['question_text'][114] # lascivious and this is borderline incest"
   ]
  },
  {
   "cell_type": "code",
<<<<<<< HEAD
   "execution_count": null,
   "metadata": {},
   "outputs": [],
=======
   "execution_count": 9,
   "metadata": {},
   "outputs": [
    {
     "data": {
      "text/plain": [
       "'Which races have the smallest penis?'"
      ]
     },
     "execution_count": 9,
     "metadata": {},
     "output_type": "execute_result"
    }
   ],
>>>>>>> origin/master
   "source": [
    "original_train[original_train['target'] == 1].head()['question_text'][115] # definitely insincere"
   ]
  },
  {
   "cell_type": "code",
<<<<<<< HEAD
   "execution_count": null,
   "metadata": {},
   "outputs": [],
=======
   "execution_count": 10,
   "metadata": {},
   "outputs": [
    {
     "data": {
      "text/plain": [
       "'How is it to have intimate relation with your cousin?'"
      ]
     },
     "execution_count": 10,
     "metadata": {},
     "output_type": "execute_result"
    }
   ],
>>>>>>> origin/master
   "source": [
    "original_train[original_train['target'] == 1].tail()['question_text'][1306093] # part 2 - incest"
   ]
  },
  {
   "cell_type": "code",
<<<<<<< HEAD
   "execution_count": null,
   "metadata": {},
   "outputs": [],
=======
   "execution_count": 11,
   "metadata": {},
   "outputs": [
    {
     "data": {
      "text/plain": [
       "'Do pakis smell of curry and shit?'"
      ]
     },
     "execution_count": 11,
     "metadata": {},
     "output_type": "execute_result"
    }
   ],
>>>>>>> origin/master
   "source": [
    "original_train[original_train['target'] == 1].tail()['question_text'][1306099] # racist towards pakistani people"
   ]
  },
  {
   "cell_type": "code",
<<<<<<< HEAD
   "execution_count": null,
   "metadata": {},
   "outputs": [],
=======
   "execution_count": 12,
   "metadata": {},
   "outputs": [
    {
     "data": {
      "text/plain": [
       "'Why is it when singers have lyrics about voices in their head, religious people say they hear god and anyone stating they are being targeted by voice to brain technology? Are they called delusional schizo?'"
      ]
     },
     "execution_count": 12,
     "metadata": {},
     "output_type": "execute_result"
    }
   ],
>>>>>>> origin/master
   "source": [
    "original_train[original_train['target'] == 1].tail()['question_text'][1306094] # provocative and trying to make a statement"
   ]
  },
  {
   "cell_type": "code",
<<<<<<< HEAD
   "execution_count": null,
   "metadata": {
    "collapsed": true
   },
   "outputs": [],
   "source": [
    "split_train1 = list(map(lambda x : x.lower().split(), original_train[original_train['target'] == 1]['question_text']))\n",
    "split_train0 = list(map(lambda x : x.lower().split(), original_train[original_train['target'] == 0]['question_text']))"
   ]
  },
  {
   "cell_type": "markdown",
   "metadata": {},
   "source": [
    "## Proportion of Different Question Types"
   ]
  },
  {
   "cell_type": "code",
   "execution_count": null,
   "metadata": {
    "collapsed": true
   },
   "outputs": [],
   "source": [
    "# determine question type counts among sincere and sincere questions\n",
    "search1 = 'why'\n",
    "search2 = 'how'\n",
    "search3 = 'what'\n",
    "search4 = 'do'\n",
    "insincere_questions = [[] for _ in range(4)]\n",
    "sincere_questions = [[] for _ in range(4)]\n",
    "for sublist in split_train1:\n",
    "    if sublist[0] == search1:\n",
    "        insincere_questions[0].append(sublist)\n",
    "    elif sublist[0] == search2:\n",
    "        insincere_questions[1].append(sublist)\n",
    "    elif sublist[0] == search3:\n",
    "        insincere_questions[2].append(sublist)\n",
    "    elif sublist[0] == search4:\n",
    "        insincere_questions[3].append(sublist)\n",
    "for sublist in split_train0:\n",
    "    if sublist[0] == search1:\n",
    "        sincere_questions[0].append(sublist)\n",
    "    elif sublist[0] == search2:\n",
    "        sincere_questions[1].append(sublist)\n",
    "    elif sublist[0] == search3:\n",
    "        sincere_questions[2].append(sublist)\n",
    "    elif sublist[0] == search4:\n",
    "        sincere_questions[3].append(sublist)"
   ]
  },
  {
   "cell_type": "code",
   "execution_count": null,
   "metadata": {
    "collapsed": true
   },
   "outputs": [],
   "source": [
    "insincere_question_prop = [len(insincere_questions[0])/num_insincere, len(insincere_questions[1])/num_insincere, len(insincere_questions[2])/num_insincere, len(insincere_questions[3])/num_insincere]\n",
    "sincere_question_prop = [len(sincere_questions[0])/num_sincere, len(sincere_questions[1])/num_sincere, len(sincere_questions[2])/num_sincere, len(sincere_questions[3])/num_sincere]\n",
    "question_names = [search1, search2, search3, search4]\n",
    "print question_names\n",
    "print insincere_question_prop\n",
    "print sincere_question_prop"
   ]
  },
  {
   "cell_type": "markdown",
   "metadata": {},
   "source": [
    "### Plot Question Proportions"
   ]
  },
  {
   "cell_type": "code",
   "execution_count": null,
   "metadata": {
    "collapsed": true
   },
=======
   "execution_count": 13,
   "metadata": {},
>>>>>>> origin/master
   "outputs": [],
   "source": [
    "plt.barh(question_names, insincere_question_prop, color = 'teal')\n",
    "plt.title('Proportion of Question Types Among Insincere Qs', fontsize = 15)\n",
    "plt.xticks(fontsize = 12)\n",
    "plt.yticks(fontsize = 13)\n",
    "plt.xlabel('Density', fontsize = 13)\n",
    "plt.ylabel('Question', fontsize = 14)\n",
    "plt.show()"
   ]
  },
  {
   "cell_type": "code",
<<<<<<< HEAD
   "execution_count": null,
   "metadata": {
    "collapsed": true
   },
   "outputs": [],
   "source": [
    "plt.barh(question_names, sincere_question_prop, color = 'orange')\n",
    "plt.title('Proportion of Question Types Among Sincere Qs', fontsize = 15)\n",
    "plt.xticks(fontsize = 12)\n",
    "plt.yticks(fontsize = 13)\n",
    "plt.xlabel('Density', fontsize = 13)\n",
    "plt.ylabel('Question', fontsize = 14)\n",
    "plt.show()"
   ]
  },
  {
   "cell_type": "markdown",
   "metadata": {},
   "source": [
    "#### Comment: \n",
    "People who ask insincere questions use significantly more \"why\" questions than any other question type. The \"why\" question assumes a statement to be true, which can be problematic in some cases. For many insincere \"why\" questions, the underlying assumption is inconclusive or is subjective, so the individual is more likely to be asserting an opinion rather than genuinely seeking the answer to a question."
=======
   "execution_count": 14,
   "metadata": {},
   "outputs": [
    {
     "data": {
      "text/plain": [
       "['Has',\n",
       " 'the',\n",
       " 'United',\n",
       " 'States',\n",
       " 'become',\n",
       " 'the',\n",
       " 'largest',\n",
       " 'dictatorship',\n",
       " 'in',\n",
       " 'the',\n",
       " 'world?']"
      ]
     },
     "execution_count": 14,
     "metadata": {},
     "output_type": "execute_result"
    }
   ],
   "source": [
    "split_train[0]"
>>>>>>> origin/master
   ]
  },
  {
   "cell_type": "code",
<<<<<<< HEAD
   "execution_count": null,
   "metadata": {
    "collapsed": true
   },
   "outputs": [],
   "source": [
    "# use this to determine common n-grams\n",
    "#val = all(x in sublist for x in [search1]) # use this to find a combination of words in a sentence\n",
    "from nltk.util import ngrams\n",
    "search1 = 'jews'\n",
    "search2 = 'and'\n",
    "search3 = 'blacks'\n",
    "questions = []\n",
    "for sublist in split_train1:\n",
    "    n_gram = list(ngrams(sublist, 3)) \n",
    "    ng = (search1, search2, search3)\n",
    "    if ng in n_gram:\n",
    "        questions.append(sublist)    "
   ]
  },
  {
   "cell_type": "code",
   "execution_count": null,
   "metadata": {
    "collapsed": true
   },
   "outputs": [],
   "source": [
    "len(questions)"
   ]
  },
  {
   "cell_type": "markdown",
   "metadata": {},
   "source": [
    "## Plot Common Word Frequencies"
   ]
  },
  {
   "cell_type": "code",
   "execution_count": null,
   "metadata": {},
   "outputs": [],
=======
   "execution_count": 15,
   "metadata": {},
   "outputs": [
    {
     "data": {
      "text/plain": [
       "['Has', 'the', 'United', 'States', 'become']"
      ]
     },
     "execution_count": 15,
     "metadata": {},
     "output_type": "execute_result"
    }
   ],
>>>>>>> origin/master
   "source": [
    "import itertools\n",
    "concatenated_split_train1 = list(itertools.chain.from_iterable(split_train1))\n",
    "concatenated_split_train0 = list(itertools.chain.from_iterable(split_train0))\n",
    "concatenated_split_train1[:5]"
   ]
  },
  {
   "cell_type": "code",
<<<<<<< HEAD
   "execution_count": null,
=======
   "execution_count": 16,
>>>>>>> origin/master
   "metadata": {},
   "outputs": [],
   "source": [
    "from nltk.corpus import stopwords\n",
    "s = stopwords.words('english')\n",
    "concatenated_split_train1 = list(filter(lambda x : x not in s, concatenated_split_train1))  # filter out all stop words (e.g. pronouns, articles)\n",
    "concatenated_split_train0 = list(filter(lambda x : x not in s, concatenated_split_train0))"
   ]
  },
  {
   "cell_type": "code",
<<<<<<< HEAD
   "execution_count": null,
   "metadata": {},
   "outputs": [],
   "source": [
    "import matplotlib.pyplot as plt\n",
    "top = pd.Series(concatenated_split_train1).value_counts()[:40] # top 40 words \n",
    "plt.figure(figsize=(15,15))\n",
    "plt.title(\"Top 40 Most Frequent Words - Insincere Questions\", fontsize = 20)\n",
    "plt.yticks(fontsize=14)\n",
    "plt.xticks(fontsize=15)\n",
    "plt.ylabel('Word', fontsize = 17)\n",
    "plt.xlabel('Count', fontsize = 17)\n",
    "top.plot(kind='barh', color = 'teal')\n",
    "plt.show()"
   ]
  },
  {
   "cell_type": "code",
   "execution_count": null,
   "metadata": {
    "collapsed": true
   },
   "outputs": [],
   "source": [
    "import matplotlib.pyplot as plt\n",
    "#top = pd.Series(concatenated_split_train0).value_counts()[:40] # top 40 words \n",
    "plt.figure(figsize=(15,15))\n",
    "plt.title(\"Top 40 Most Frequent Words - Sincere Questions\", fontsize = 20)\n",
    "plt.yticks(fontsize=14)\n",
    "plt.xticks(fontsize=15)\n",
    "plt.ylabel('Word', fontsize = 17)\n",
    "plt.xlabel('Count', fontsize = 17)\n",
    "top.plot(kind='barh', color = 'orange')\n",
    "plt.show()"
=======
   "execution_count": 17,
   "metadata": {},
   "outputs": [
    {
     "data": {
      "text/plain": [
       "Why       32673\n",
       "I         11236\n",
       "people    10869\n",
       "Is         8396\n",
       "How        7510\n",
       "What       6106\n",
       "Do         5656\n",
       "like       5638\n",
       "Trump      4701\n",
       "women      4639\n",
       "Are        4611\n",
       "think      3758\n",
       "If         3688\n",
       "many       3471\n",
       "get        3152\n",
       "dtype: int64"
      ]
     },
     "execution_count": 17,
     "metadata": {},
     "output_type": "execute_result"
    }
   ],
   "source": [
    "pd.Series(concatenated_split_train).value_counts()[:15] # top 15 words "
>>>>>>> origin/master
   ]
  },
  {
   "cell_type": "markdown",
   "metadata": {},
   "source": [
    "# Create Features for Training/Testing Data\n",
    "Our input values will be constructed as follows:\n",
    "* Features = columns\n",
    "* Samples = rows\n",
    "\n",
    "Let's concatenate the questions from the training data and testing data so that we can create the features based on the entire dataset. If we were to do this for the training and testing datasets individually, this would cause errors when we try to predict values from our testing dataset due to different number of dimensions in the number of columns in train compared to test data."
   ]
  },
  {
   "cell_type": "code",
<<<<<<< HEAD
   "execution_count": null,
   "metadata": {},
   "outputs": [],
=======
   "execution_count": 18,
   "metadata": {},
   "outputs": [
    {
     "name": "stdout",
     "output_type": "stream",
     "text": [
      "(1362492,)\n"
     ]
    }
   ],
>>>>>>> origin/master
   "source": [
    "# concatenate train and test\n",
    "import copy\n",
    "X = copy.deepcopy(original_train['question_text'])\n",
    "Z = copy.deepcopy(original_test['question_text'])\n",
    "X = X.append(Z)\n",
    "X= X.reset_index(drop = True)\n",
    "print (X.shape )# number of samples"
   ]
  },
  {
   "cell_type": "code",
<<<<<<< HEAD
   "execution_count": null,
   "metadata": {},
   "outputs": [],
=======
   "execution_count": 19,
   "metadata": {},
   "outputs": [
    {
     "name": "stdout",
     "output_type": "stream",
     "text": [
      "56370\n",
      "0.041372719986612766\n"
     ]
    }
   ],
>>>>>>> origin/master
   "source": [
    "print (len(Z)) # length of test dataset\n",
    "print (float(len(Z))/len(X)) # proportion of the entire dataset that is testing data"
   ]
  },
  {
   "cell_type": "code",
<<<<<<< HEAD
   "execution_count": null,
   "metadata": {},
   "outputs": [],
=======
   "execution_count": 20,
   "metadata": {},
   "outputs": [
    {
     "name": "stdout",
     "output_type": "stream",
     "text": [
      "0.9586272800133873\n"
     ]
    }
   ],
>>>>>>> origin/master
   "source": [
    "print (float(len(X) - len(Z))/len(X)) # proportion of the dataset that is training data"
   ]
  },
  {
   "cell_type": "markdown",
   "metadata": {},
   "source": [
    "#### Let's split our training dataset into train and validation"
   ]
  },
  {
   "cell_type": "code",
<<<<<<< HEAD
   "execution_count": null,
   "metadata": {},
   "outputs": [],
=======
   "execution_count": 21,
   "metadata": {},
   "outputs": [
    {
     "data": {
      "image/png": "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\n",
      "text/plain": [
       "<IPython.core.display.Image object>"
      ]
     },
     "execution_count": 21,
     "metadata": {},
     "output_type": "execute_result"
    }
   ],
>>>>>>> origin/master
   "source": [
    "from IPython.display import Image\n",
    "Image(filename='datasplit.png')\n",
    "# this is how our data will be split"
   ]
  },
  {
   "cell_type": "code",
<<<<<<< HEAD
   "execution_count": null,
   "metadata": {},
   "outputs": [],
=======
   "execution_count": 24,
   "metadata": {},
   "outputs": [
    {
     "name": "stdout",
     "output_type": "stream",
     "text": [
      "0.90275759417303\n",
      "0.05586968584035723\n"
     ]
    }
   ],
>>>>>>> origin/master
   "source": [
    "train_size = 1230000\n",
    "print (float(train_size)/len(X)) # first 90% will be train data\n",
    "\n",
    "valid_size = len(X) - len(Z)\n",
    "print (float(valid_size)/len(X) -  float(train_size)/len(X)) # the remaining ~6% will be validation data"
   ]
  },
  {
   "cell_type": "markdown",
   "metadata": {},
   "source": [
    "#### Now, create features through word counts"
   ]
  },
  {
   "cell_type": "code",
<<<<<<< HEAD
   "execution_count": null,
   "metadata": {
    "collapsed": true
   },
=======
   "execution_count": 27,
   "metadata": {},
>>>>>>> origin/master
   "outputs": [],
   "source": [
    "# gets word counts of all unique words in the dataset - Bag of Words Representation (order doesn't matter)\n",
    "from sklearn.feature_extraction.text import CountVectorizer\n",
    "count_vect = CountVectorizer(stop_words = 'english') # remove stop_words (e.g. the, a, in, pronouns, etc.)\n",
    "X_train_counts = count_vect.fit_transform(X)"
   ]
  },
  {
   "cell_type": "code",
<<<<<<< HEAD
   "execution_count": null,
   "metadata": {},
   "outputs": [],
=======
   "execution_count": 28,
   "metadata": {},
   "outputs": [
    {
     "name": "stdout",
     "output_type": "stream",
     "text": [
      "(1362492, 199143)\n"
     ]
    }
   ],
>>>>>>> origin/master
   "source": [
    "print (X_train_counts.shape)"
   ]
  },
  {
   "cell_type": "code",
<<<<<<< HEAD
   "execution_count": null,
   "metadata": {},
   "outputs": [],
=======
   "execution_count": 29,
   "metadata": {},
   "outputs": [
    {
     "data": {
      "text/plain": [
       "(1362492, 199143)"
      ]
     },
     "execution_count": 29,
     "metadata": {},
     "output_type": "execute_result"
    }
   ],
>>>>>>> origin/master
   "source": [
    "# converts word counts into word frequencies with values between 0 and 1 - this also normalizes the data\n",
    "# word frequencies are calculated by quora question not frequency across the entire dataset\n",
    "from sklearn.feature_extraction.text import TfidfTransformer\n",
    "tfidf_transformer = TfidfTransformer()\n",
    "X_train_tfidf = tfidf_transformer.fit_transform(X_train_counts)\n",
    "X_train_tfidf.shape # the shape here is the (num_samples, num_features) where num_features == unique words"
   ]
  },
  {
   "cell_type": "code",
<<<<<<< HEAD
   "execution_count": null,
   "metadata": {},
   "outputs": [],
=======
   "execution_count": 30,
   "metadata": {},
   "outputs": [
    {
     "data": {
      "text/plain": [
       "'How did Quebec nationalists see their province as a nation in the 1960s?'"
      ]
     },
     "execution_count": 30,
     "metadata": {},
     "output_type": "execute_result"
    }
   ],
>>>>>>> origin/master
   "source": [
    "X[0] # initial format of question"
   ]
  },
  {
   "cell_type": "code",
<<<<<<< HEAD
   "execution_count": null,
   "metadata": {},
   "outputs": [],
=======
   "execution_count": 31,
   "metadata": {},
   "outputs": [
    {
     "data": {
      "text/plain": [
       "<1x199143 sparse matrix of type '<class 'numpy.float64'>'\n",
       "\twith 6 stored elements in Compressed Sparse Row format>"
      ]
     },
     "execution_count": 31,
     "metadata": {},
     "output_type": "execute_result"
    }
   ],
>>>>>>> origin/master
   "source": [
    "X_train_tfidf[0] # 1 sample - the question converted into a vector of counts and then a vector of word frequencies "
   ]
  },
  {
   "cell_type": "markdown",
   "metadata": {},
   "source": [
    "# Cross Validation"
   ]
  },
  {
   "cell_type": "code",
   "execution_count": null,
   "metadata": {
    "collapsed": true
   },
   "outputs": [],
   "source": [
    "from sklearn.naive_bayes import BernoulliNB\n",
    "from sklearn.model_selection import cross_validate\n",
    "scorer = ['accuracy', 'precision', 'recall', 'f1']\n",
    "algorithm = BernoulliNB()\n",
    "num_splits = 5\n",
    "cv_results = cross_validate(algorithm, X_train_tfidf[:len(X) - len(Z)], original_train['target'], scoring = ('accuracy', 'precision', 'recall', 'f1'), cv = num_splits, return_train_score = True)"
   ]
  },
  {
   "cell_type": "code",
   "execution_count": null,
   "metadata": {
    "collapsed": true
   },
   "outputs": [],
   "source": [
    "cv_results.keys()"
   ]
  },
  {
   "cell_type": "code",
   "execution_count": null,
   "metadata": {
    "collapsed": true
   },
   "outputs": [],
   "source": [
    "num_splits = 5\n",
    "print \"Accuracy: \" + str(sum(cv_results['test_accuracy'])/num_splits)\n",
    "print \"Precision: \" + str(sum(cv_results['test_precision'])/num_splits)\n",
    "print \"Recall: \" + str(sum(cv_results['test_recall'])/num_splits)\n",
    "print \"Harmonic Mean: \" + str(sum(cv_results['test_f1'])/num_splits)"
   ]
  },
  {
   "cell_type": "markdown",
   "metadata": {},
   "source": [
    "# Hihi! Don't worry about anything below here - I'm still making changes:)"
   ]
  },
  {
   "cell_type": "markdown",
   "metadata": {},
   "source": [
    "# Fit Model \n",
    "#### Bernoulli Naive Bayes Classifier \n",
    "Note: I used a BernoulliNB Classifier since other classifiers have a much longer run time or have poorer performance."
   ]
  },
  {
   "cell_type": "code",
<<<<<<< HEAD
   "execution_count": null,
   "metadata": {
    "collapsed": true
   },
=======
   "execution_count": 33,
   "metadata": {},
>>>>>>> origin/master
   "outputs": [],
   "source": [
    "# This function displays the metrics for evaluation of the model.\n",
    "from sklearn import metrics\n",
    "def results(expected, actual):\n",
    "    not_equal = actual[actual != expected]\n",
    "    fn = not_equal[not_equal == 0] # false negatives\n",
    "    accuracy = metrics.accuracy_score(expected, actual)\n",
    "    recall = metrics.recall_score(expected, actual)\n",
    "    precision = metrics.precision_score(expected, actual)\n",
    "    harmonic_mean = 2 * (precision * recall) / (precision + recall)\n",
    "\n",
    "    print ('Accuracy Score: ' + str(accuracy)) # accuracy score based on our validation data \n",
    "    print ('Recall Score: ' + str(recall))\n",
    "    print ('Precision Score: ' + str(precision))\n",
    "    print ('Harmonic Mean: ' + str(harmonic_mean)) + '\\n'\n",
    "    print ('Expected Insincere: ' + str(len(expected[expected == 1]))) # insincere\n",
    "    print ('Actual Number Insincere: ' + str(len(actual[actual == 1]))) # insincere\n",
    "    print ('Number of False Negatives: ' + str(len(fn)))\n",
    "    print ('Actual Number Sincere: ' + str(len(actual[actual == 0]))) # sincere\n",
    "    print ('Total: ' + str(len(expected)))"
   ]
  },
  {
   "cell_type": "code",
<<<<<<< HEAD
   "execution_count": null,
   "metadata": {
    "collapsed": true
   },
=======
   "execution_count": 34,
   "metadata": {},
>>>>>>> origin/master
   "outputs": [],
   "source": [
    "# This function fits the data to a model and yields fitted values from the model\n",
    "def model(alg, x, y, training_size, validation_size):\n",
    "    classifier = alg.fit(x[:training_size], y[:training_size]) \n",
    "    validation = classifier.predict(x[training_size:validation_size]) \n",
    "    predicted = classifier.predict(X_train_tfidf[validation_size:]) # no target data available\n",
    "    results(original_train['target'][training_size:validation_size], validation)\n",
    "    return validation, predicted"
   ]
  },
  {
   "cell_type": "code",
<<<<<<< HEAD
   "execution_count": null,
   "metadata": {
    "collapsed": true
   },
=======
   "execution_count": 37,
   "metadata": {},
>>>>>>> origin/master
   "outputs": [],
   "source": [
    "# This function displays some of the sample questions and their predicted target values\n",
    "import numpy as np\n",
    "def display_samples(question_type, x_data, v_size, pred):\n",
    "    if question_type:\n",
    "        indices = np.where(pred == 1)\n",
    "    else: \n",
    "        indices = np.where(pred == 0)\n",
    "    print ('Here are a few samples with their target values.')\n",
    "    count = 0\n",
    "    for i in list(indices[0]):\n",
    "        if count > 10: # display 10 samples\n",
    "            break\n",
    "        print (x_data[v_size + i])\n",
    "        print (pred[i] )\n",
    "        count = count + 1"
   ]
  },
  {
   "cell_type": "markdown",
   "metadata": {},
   "source": [
    "#### Base Model \n",
    "For the base model, let's set all target values to 0, where 0 is the class for sincere questions, since the majority of questions are sincere. You'll see that the number of insincere predicted values is 0. This is because we didn't train on any insincere values. Also, the recall and precision scores are all 0. This is because we did not train on any data where the target value == 1, so it's not possible to have a true positive (value == 1), which is the numerator of the recall and precision scores. \n",
    "* recall = TP / TP + FN\n",
    "* precision = TP / TP + FP"
   ]
  },
  {
   "cell_type": "code",
<<<<<<< HEAD
   "execution_count": null,
   "metadata": {},
   "outputs": [],
   "source": [
    "from sklearn.naive_bayes import BernoulliNB\n",
    "algorithm = BernoulliNB()\n",
=======
   "execution_count": 38,
   "metadata": {},
   "outputs": [
    {
     "name": "stderr",
     "output_type": "stream",
     "text": [
      "/Users/rita_koulikova/anaconda3/lib/python3.6/site-packages/sklearn/naive_bayes.py:461: RuntimeWarning: divide by zero encountered in log\n",
      "  self.class_log_prior_ = (np.log(self.class_count_) -\n",
      "/Users/rita_koulikova/anaconda3/lib/python3.6/site-packages/sklearn/metrics/classification.py:1135: UndefinedMetricWarning: Precision is ill-defined and being set to 0.0 due to no predicted samples.\n",
      "  'precision', 'predicted', average, warn_for)\n",
      "/Users/rita_koulikova/anaconda3/lib/python3.6/site-packages/ipykernel_launcher.py:9: RuntimeWarning: invalid value encountered in double_scalars\n",
      "  if __name__ == '__main__':\n"
     ]
    },
    {
     "name": "stdout",
     "output_type": "stream",
     "text": [
      "Accuracy Score: 0.9379154515120465\n",
      "Recall Score: 0.0\n",
      "Precision Score: 0.0\n",
      "Harmonic Mean: nan\n"
     ]
    },
    {
     "ename": "TypeError",
     "evalue": "unsupported operand type(s) for +: 'NoneType' and 'str'",
     "output_type": "error",
     "traceback": [
      "\u001b[0;31m---------------------------------------------------------------------------\u001b[0m",
      "\u001b[0;31mTypeError\u001b[0m                                 Traceback (most recent call last)",
      "\u001b[0;32m<ipython-input-38-f7a06daaf2ac>\u001b[0m in \u001b[0;36m<module>\u001b[0;34m()\u001b[0m\n\u001b[1;32m      3\u001b[0m \u001b[0my_base\u001b[0m \u001b[0;34m=\u001b[0m \u001b[0mlist\u001b[0m\u001b[0;34m(\u001b[0m\u001b[0mcopy\u001b[0m\u001b[0;34m.\u001b[0m\u001b[0mdeepcopy\u001b[0m\u001b[0;34m(\u001b[0m\u001b[0moriginal_train\u001b[0m\u001b[0;34m[\u001b[0m\u001b[0;34m'target'\u001b[0m\u001b[0;34m]\u001b[0m\u001b[0;34m[\u001b[0m\u001b[0;34m:\u001b[0m\u001b[0mtrain_size\u001b[0m\u001b[0;34m]\u001b[0m\u001b[0;34m)\u001b[0m\u001b[0;34m)\u001b[0m\u001b[0;34m\u001b[0m\u001b[0m\n\u001b[1;32m      4\u001b[0m \u001b[0my_base\u001b[0m \u001b[0;34m=\u001b[0m \u001b[0mlist\u001b[0m\u001b[0;34m(\u001b[0m\u001b[0mmap\u001b[0m\u001b[0;34m(\u001b[0m\u001b[0;32mlambda\u001b[0m \u001b[0mx\u001b[0m\u001b[0;34m:\u001b[0m \u001b[0mx\u001b[0m\u001b[0;34m*\u001b[0m\u001b[0;36m0\u001b[0m\u001b[0;34m,\u001b[0m \u001b[0my_base\u001b[0m\u001b[0;34m)\u001b[0m\u001b[0;34m)\u001b[0m\u001b[0;34m\u001b[0m\u001b[0m\n\u001b[0;32m----> 5\u001b[0;31m \u001b[0my_valid\u001b[0m\u001b[0;34m,\u001b[0m \u001b[0my_pred\u001b[0m \u001b[0;34m=\u001b[0m \u001b[0mmodel\u001b[0m\u001b[0;34m(\u001b[0m\u001b[0malgorithm\u001b[0m\u001b[0;34m,\u001b[0m \u001b[0mX_train_tfidf\u001b[0m\u001b[0;34m,\u001b[0m \u001b[0my_base\u001b[0m\u001b[0;34m,\u001b[0m \u001b[0mtrain_size\u001b[0m\u001b[0;34m,\u001b[0m \u001b[0mvalid_size\u001b[0m\u001b[0;34m)\u001b[0m\u001b[0;34m\u001b[0m\u001b[0m\n\u001b[0m",
      "\u001b[0;32m<ipython-input-34-2e99dc66b4ab>\u001b[0m in \u001b[0;36mmodel\u001b[0;34m(alg, x, y, training_size, validation_size)\u001b[0m\n\u001b[1;32m      4\u001b[0m     \u001b[0mvalidation\u001b[0m \u001b[0;34m=\u001b[0m \u001b[0mclassifier\u001b[0m\u001b[0;34m.\u001b[0m\u001b[0mpredict\u001b[0m\u001b[0;34m(\u001b[0m\u001b[0mx\u001b[0m\u001b[0;34m[\u001b[0m\u001b[0mtraining_size\u001b[0m\u001b[0;34m:\u001b[0m\u001b[0mvalidation_size\u001b[0m\u001b[0;34m]\u001b[0m\u001b[0;34m)\u001b[0m\u001b[0;34m\u001b[0m\u001b[0m\n\u001b[1;32m      5\u001b[0m     \u001b[0mpredicted\u001b[0m \u001b[0;34m=\u001b[0m \u001b[0mclassifier\u001b[0m\u001b[0;34m.\u001b[0m\u001b[0mpredict\u001b[0m\u001b[0;34m(\u001b[0m\u001b[0mX_train_tfidf\u001b[0m\u001b[0;34m[\u001b[0m\u001b[0mvalidation_size\u001b[0m\u001b[0;34m:\u001b[0m\u001b[0;34m]\u001b[0m\u001b[0;34m)\u001b[0m \u001b[0;31m# no target data available\u001b[0m\u001b[0;34m\u001b[0m\u001b[0m\n\u001b[0;32m----> 6\u001b[0;31m     \u001b[0mresults\u001b[0m\u001b[0;34m(\u001b[0m\u001b[0moriginal_train\u001b[0m\u001b[0;34m[\u001b[0m\u001b[0;34m'target'\u001b[0m\u001b[0;34m]\u001b[0m\u001b[0;34m[\u001b[0m\u001b[0mtraining_size\u001b[0m\u001b[0;34m:\u001b[0m\u001b[0mvalidation_size\u001b[0m\u001b[0;34m]\u001b[0m\u001b[0;34m,\u001b[0m \u001b[0mvalidation\u001b[0m\u001b[0;34m)\u001b[0m\u001b[0;34m\u001b[0m\u001b[0m\n\u001b[0m\u001b[1;32m      7\u001b[0m     \u001b[0;32mreturn\u001b[0m \u001b[0mvalidation\u001b[0m\u001b[0;34m,\u001b[0m \u001b[0mpredicted\u001b[0m\u001b[0;34m\u001b[0m\u001b[0m\n",
      "\u001b[0;32m<ipython-input-33-34c32381698a>\u001b[0m in \u001b[0;36mresults\u001b[0;34m(expected, actual)\u001b[0m\n\u001b[1;32m     12\u001b[0m     \u001b[0mprint\u001b[0m \u001b[0;34m(\u001b[0m\u001b[0;34m'Recall Score: '\u001b[0m \u001b[0;34m+\u001b[0m \u001b[0mstr\u001b[0m\u001b[0;34m(\u001b[0m\u001b[0mrecall\u001b[0m\u001b[0;34m)\u001b[0m\u001b[0;34m)\u001b[0m\u001b[0;34m\u001b[0m\u001b[0m\n\u001b[1;32m     13\u001b[0m     \u001b[0mprint\u001b[0m \u001b[0;34m(\u001b[0m\u001b[0;34m'Precision Score: '\u001b[0m \u001b[0;34m+\u001b[0m \u001b[0mstr\u001b[0m\u001b[0;34m(\u001b[0m\u001b[0mprecision\u001b[0m\u001b[0;34m)\u001b[0m\u001b[0;34m)\u001b[0m\u001b[0;34m\u001b[0m\u001b[0m\n\u001b[0;32m---> 14\u001b[0;31m     \u001b[0mprint\u001b[0m \u001b[0;34m(\u001b[0m\u001b[0;34m'Harmonic Mean: '\u001b[0m \u001b[0;34m+\u001b[0m \u001b[0mstr\u001b[0m\u001b[0;34m(\u001b[0m\u001b[0mharmonic_mean\u001b[0m\u001b[0;34m)\u001b[0m\u001b[0;34m)\u001b[0m \u001b[0;34m+\u001b[0m \u001b[0;34m'\\n'\u001b[0m\u001b[0;34m\u001b[0m\u001b[0m\n\u001b[0m\u001b[1;32m     15\u001b[0m     \u001b[0mprint\u001b[0m \u001b[0;34m(\u001b[0m\u001b[0;34m'Expected Insincere: '\u001b[0m \u001b[0;34m+\u001b[0m \u001b[0mstr\u001b[0m\u001b[0;34m(\u001b[0m\u001b[0mlen\u001b[0m\u001b[0;34m(\u001b[0m\u001b[0mexpected\u001b[0m\u001b[0;34m[\u001b[0m\u001b[0mexpected\u001b[0m \u001b[0;34m==\u001b[0m \u001b[0;36m1\u001b[0m\u001b[0;34m]\u001b[0m\u001b[0;34m)\u001b[0m\u001b[0;34m)\u001b[0m\u001b[0;34m)\u001b[0m \u001b[0;31m# insincere\u001b[0m\u001b[0;34m\u001b[0m\u001b[0m\n\u001b[1;32m     16\u001b[0m     \u001b[0mprint\u001b[0m \u001b[0;34m(\u001b[0m\u001b[0;34m'Actual Number Insincere: '\u001b[0m \u001b[0;34m+\u001b[0m \u001b[0mstr\u001b[0m\u001b[0;34m(\u001b[0m\u001b[0mlen\u001b[0m\u001b[0;34m(\u001b[0m\u001b[0mactual\u001b[0m\u001b[0;34m[\u001b[0m\u001b[0mactual\u001b[0m \u001b[0;34m==\u001b[0m \u001b[0;36m1\u001b[0m\u001b[0;34m]\u001b[0m\u001b[0;34m)\u001b[0m\u001b[0;34m)\u001b[0m\u001b[0;34m)\u001b[0m \u001b[0;31m# insincere\u001b[0m\u001b[0;34m\u001b[0m\u001b[0m\n",
      "\u001b[0;31mTypeError\u001b[0m: unsupported operand type(s) for +: 'NoneType' and 'str'"
     ]
    }
   ],
   "source": [
    "from sklearn.naive_bayes import MultinomialNB\n",
    "algorithm = MultinomialNB()\n",
>>>>>>> origin/master
    "y_base = list(copy.deepcopy(original_train['target'][:train_size]))\n",
    "y_base = list(map(lambda x: x*0, y_base))\n",
    "y_valid, y_pred = model(algorithm, X_train_tfidf, y_base, train_size, valid_size)   "
   ]
  },
  {
   "cell_type": "markdown",
   "metadata": {},
   "source": [
    "#### Model With Observed Data\n",
    "Now, let's see how the model performs on our observed data."
   ]
  },
  {
   "cell_type": "code",
<<<<<<< HEAD
   "execution_count": null,
   "metadata": {},
   "outputs": [],
   "source": [
    "from sklearn.naive_bayes import BernoulliNB\n",
    "algorithm = BernoulliNB()\n",
=======
   "execution_count": 39,
   "metadata": {},
   "outputs": [
    {
     "name": "stdout",
     "output_type": "stream",
     "text": [
      "Accuracy Score: 0.9405165392396416\n",
      "Recall Score: 0.07786711807024968\n",
      "Precision Score: 0.6840148698884758\n",
      "Harmonic Mean: 0.1398176291793313\n"
     ]
    },
    {
     "ename": "TypeError",
     "evalue": "unsupported operand type(s) for +: 'NoneType' and 'str'",
     "output_type": "error",
     "traceback": [
      "\u001b[0;31m---------------------------------------------------------------------------\u001b[0m",
      "\u001b[0;31mTypeError\u001b[0m                                 Traceback (most recent call last)",
      "\u001b[0;32m<ipython-input-39-2f50d8149057>\u001b[0m in \u001b[0;36m<module>\u001b[0;34m()\u001b[0m\n\u001b[1;32m      1\u001b[0m \u001b[0malgorithm\u001b[0m \u001b[0;34m=\u001b[0m \u001b[0mMultinomialNB\u001b[0m\u001b[0;34m(\u001b[0m\u001b[0;34m)\u001b[0m\u001b[0;34m\u001b[0m\u001b[0m\n\u001b[0;32m----> 2\u001b[0;31m \u001b[0my_valid\u001b[0m\u001b[0;34m,\u001b[0m \u001b[0my_pred\u001b[0m \u001b[0;34m=\u001b[0m \u001b[0mmodel\u001b[0m\u001b[0;34m(\u001b[0m\u001b[0malgorithm\u001b[0m\u001b[0;34m,\u001b[0m \u001b[0mX_train_tfidf\u001b[0m\u001b[0;34m,\u001b[0m \u001b[0moriginal_train\u001b[0m\u001b[0;34m[\u001b[0m\u001b[0;34m'target'\u001b[0m\u001b[0;34m]\u001b[0m\u001b[0;34m,\u001b[0m \u001b[0mtrain_size\u001b[0m\u001b[0;34m,\u001b[0m \u001b[0mvalid_size\u001b[0m\u001b[0;34m)\u001b[0m\u001b[0;34m\u001b[0m\u001b[0m\n\u001b[0m\u001b[1;32m      3\u001b[0m \u001b[0;31m# we want all of the proportions below to be as close to 1 as possible\u001b[0m\u001b[0;34m\u001b[0m\u001b[0;34m\u001b[0m\u001b[0m\n",
      "\u001b[0;32m<ipython-input-34-2e99dc66b4ab>\u001b[0m in \u001b[0;36mmodel\u001b[0;34m(alg, x, y, training_size, validation_size)\u001b[0m\n\u001b[1;32m      4\u001b[0m     \u001b[0mvalidation\u001b[0m \u001b[0;34m=\u001b[0m \u001b[0mclassifier\u001b[0m\u001b[0;34m.\u001b[0m\u001b[0mpredict\u001b[0m\u001b[0;34m(\u001b[0m\u001b[0mx\u001b[0m\u001b[0;34m[\u001b[0m\u001b[0mtraining_size\u001b[0m\u001b[0;34m:\u001b[0m\u001b[0mvalidation_size\u001b[0m\u001b[0;34m]\u001b[0m\u001b[0;34m)\u001b[0m\u001b[0;34m\u001b[0m\u001b[0m\n\u001b[1;32m      5\u001b[0m     \u001b[0mpredicted\u001b[0m \u001b[0;34m=\u001b[0m \u001b[0mclassifier\u001b[0m\u001b[0;34m.\u001b[0m\u001b[0mpredict\u001b[0m\u001b[0;34m(\u001b[0m\u001b[0mX_train_tfidf\u001b[0m\u001b[0;34m[\u001b[0m\u001b[0mvalidation_size\u001b[0m\u001b[0;34m:\u001b[0m\u001b[0;34m]\u001b[0m\u001b[0;34m)\u001b[0m \u001b[0;31m# no target data available\u001b[0m\u001b[0;34m\u001b[0m\u001b[0m\n\u001b[0;32m----> 6\u001b[0;31m     \u001b[0mresults\u001b[0m\u001b[0;34m(\u001b[0m\u001b[0moriginal_train\u001b[0m\u001b[0;34m[\u001b[0m\u001b[0;34m'target'\u001b[0m\u001b[0;34m]\u001b[0m\u001b[0;34m[\u001b[0m\u001b[0mtraining_size\u001b[0m\u001b[0;34m:\u001b[0m\u001b[0mvalidation_size\u001b[0m\u001b[0;34m]\u001b[0m\u001b[0;34m,\u001b[0m \u001b[0mvalidation\u001b[0m\u001b[0;34m)\u001b[0m\u001b[0;34m\u001b[0m\u001b[0m\n\u001b[0m\u001b[1;32m      7\u001b[0m     \u001b[0;32mreturn\u001b[0m \u001b[0mvalidation\u001b[0m\u001b[0;34m,\u001b[0m \u001b[0mpredicted\u001b[0m\u001b[0;34m\u001b[0m\u001b[0m\n",
      "\u001b[0;32m<ipython-input-33-34c32381698a>\u001b[0m in \u001b[0;36mresults\u001b[0;34m(expected, actual)\u001b[0m\n\u001b[1;32m     12\u001b[0m     \u001b[0mprint\u001b[0m \u001b[0;34m(\u001b[0m\u001b[0;34m'Recall Score: '\u001b[0m \u001b[0;34m+\u001b[0m \u001b[0mstr\u001b[0m\u001b[0;34m(\u001b[0m\u001b[0mrecall\u001b[0m\u001b[0;34m)\u001b[0m\u001b[0;34m)\u001b[0m\u001b[0;34m\u001b[0m\u001b[0m\n\u001b[1;32m     13\u001b[0m     \u001b[0mprint\u001b[0m \u001b[0;34m(\u001b[0m\u001b[0;34m'Precision Score: '\u001b[0m \u001b[0;34m+\u001b[0m \u001b[0mstr\u001b[0m\u001b[0;34m(\u001b[0m\u001b[0mprecision\u001b[0m\u001b[0;34m)\u001b[0m\u001b[0;34m)\u001b[0m\u001b[0;34m\u001b[0m\u001b[0m\n\u001b[0;32m---> 14\u001b[0;31m     \u001b[0mprint\u001b[0m \u001b[0;34m(\u001b[0m\u001b[0;34m'Harmonic Mean: '\u001b[0m \u001b[0;34m+\u001b[0m \u001b[0mstr\u001b[0m\u001b[0;34m(\u001b[0m\u001b[0mharmonic_mean\u001b[0m\u001b[0;34m)\u001b[0m\u001b[0;34m)\u001b[0m \u001b[0;34m+\u001b[0m \u001b[0;34m'\\n'\u001b[0m\u001b[0;34m\u001b[0m\u001b[0m\n\u001b[0m\u001b[1;32m     15\u001b[0m     \u001b[0mprint\u001b[0m \u001b[0;34m(\u001b[0m\u001b[0;34m'Expected Insincere: '\u001b[0m \u001b[0;34m+\u001b[0m \u001b[0mstr\u001b[0m\u001b[0;34m(\u001b[0m\u001b[0mlen\u001b[0m\u001b[0;34m(\u001b[0m\u001b[0mexpected\u001b[0m\u001b[0;34m[\u001b[0m\u001b[0mexpected\u001b[0m \u001b[0;34m==\u001b[0m \u001b[0;36m1\u001b[0m\u001b[0;34m]\u001b[0m\u001b[0;34m)\u001b[0m\u001b[0;34m)\u001b[0m\u001b[0;34m)\u001b[0m \u001b[0;31m# insincere\u001b[0m\u001b[0;34m\u001b[0m\u001b[0m\n\u001b[1;32m     16\u001b[0m     \u001b[0mprint\u001b[0m \u001b[0;34m(\u001b[0m\u001b[0;34m'Actual Number Insincere: '\u001b[0m \u001b[0;34m+\u001b[0m \u001b[0mstr\u001b[0m\u001b[0;34m(\u001b[0m\u001b[0mlen\u001b[0m\u001b[0;34m(\u001b[0m\u001b[0mactual\u001b[0m\u001b[0;34m[\u001b[0m\u001b[0mactual\u001b[0m \u001b[0;34m==\u001b[0m \u001b[0;36m1\u001b[0m\u001b[0;34m]\u001b[0m\u001b[0;34m)\u001b[0m\u001b[0;34m)\u001b[0m\u001b[0;34m)\u001b[0m \u001b[0;31m# insincere\u001b[0m\u001b[0;34m\u001b[0m\u001b[0m\n",
      "\u001b[0;31mTypeError\u001b[0m: unsupported operand type(s) for +: 'NoneType' and 'str'"
     ]
    }
   ],
   "source": [
    "algorithm = MultinomialNB()\n",
>>>>>>> origin/master
    "y_valid, y_pred = model(algorithm, X_train_tfidf, original_train['target'], train_size, valid_size) \n",
    "# we want all of the proportions below to be as close to 1 as possible"
   ]
  },
  {
   "cell_type": "code",
<<<<<<< HEAD
   "execution_count": null,
   "metadata": {
    "collapsed": true
   },
   "outputs": [],
=======
   "execution_count": 40,
   "metadata": {},
   "outputs": [
    {
     "ename": "SyntaxError",
     "evalue": "invalid syntax (<ipython-input-40-dec33c6d60bb>, line 4)",
     "output_type": "error",
     "traceback": [
      "\u001b[0;36m  File \u001b[0;32m\"<ipython-input-40-dec33c6d60bb>\"\u001b[0;36m, line \u001b[0;32m4\u001b[0m\n\u001b[0;31m    print np.take(list(input_questions), fn_indices)[index]\u001b[0m\n\u001b[0m           ^\u001b[0m\n\u001b[0;31mSyntaxError\u001b[0m\u001b[0;31m:\u001b[0m invalid syntax\n"
     ]
    }
   ],
>>>>>>> origin/master
   "source": [
    "# This function displays questions which were predicted to be sincere but Quora deems them to be insincere \n",
    "def display_false_negatives(expected, actual, input_questions, index):\n",
    "    fn_indices = list(np.where((actual != expected) & (actual == 0))[0])\n",
    "    print np.take(list(input_questions), fn_indices)[index]"
   ]
  },
  {
   "cell_type": "code",
<<<<<<< HEAD
   "execution_count": null,
   "metadata": {},
   "outputs": [],
=======
   "execution_count": 41,
   "metadata": {},
   "outputs": [
    {
     "ename": "NameError",
     "evalue": "name 'display_false_negatives' is not defined",
     "output_type": "error",
     "traceback": [
      "\u001b[0;31m---------------------------------------------------------------------------\u001b[0m",
      "\u001b[0;31mNameError\u001b[0m                                 Traceback (most recent call last)",
      "\u001b[0;32m<ipython-input-41-cdb03784f300>\u001b[0m in \u001b[0;36m<module>\u001b[0;34m()\u001b[0m\n\u001b[0;32m----> 1\u001b[0;31m \u001b[0mdisplay_false_negatives\u001b[0m\u001b[0;34m(\u001b[0m\u001b[0moriginal_train\u001b[0m\u001b[0;34m[\u001b[0m\u001b[0;34m'target'\u001b[0m\u001b[0;34m]\u001b[0m\u001b[0;34m[\u001b[0m\u001b[0mtrain_size\u001b[0m\u001b[0;34m:\u001b[0m\u001b[0mvalid_size\u001b[0m\u001b[0;34m]\u001b[0m\u001b[0;34m,\u001b[0m \u001b[0my_valid\u001b[0m\u001b[0;34m,\u001b[0m \u001b[0mX\u001b[0m\u001b[0;34m[\u001b[0m\u001b[0mtrain_size\u001b[0m\u001b[0;34m:\u001b[0m\u001b[0mvalid_size\u001b[0m\u001b[0;34m]\u001b[0m\u001b[0;34m,\u001b[0m \u001b[0mindex\u001b[0m \u001b[0;34m=\u001b[0m \u001b[0;36m0\u001b[0m\u001b[0;34m)\u001b[0m\u001b[0;34m\u001b[0m\u001b[0m\n\u001b[0m\u001b[1;32m      2\u001b[0m \u001b[0;31m# change the index to see different samples\u001b[0m\u001b[0;34m\u001b[0m\u001b[0;34m\u001b[0m\u001b[0m\n",
      "\u001b[0;31mNameError\u001b[0m: name 'display_false_negatives' is not defined"
     ]
    }
   ],
>>>>>>> origin/master
   "source": [
    "display_false_negatives(original_train['target'][train_size:valid_size], y_valid, X[train_size:valid_size], index = 0)\n",
    "# change the index to see different samples"
   ]
  },
  {
   "cell_type": "markdown",
   "metadata": {},
   "source": [
    "#### Display Results\n",
    "Let's see some of our samples from the testing data (includes input and output values)"
   ]
  },
  {
   "cell_type": "code",
   "execution_count": null,
   "metadata": {},
   "outputs": [],
   "source": [
    "# display insincere samples\n",
    "display_samples(1, X, valid_size, y_pred)"
   ]
  },
  {
   "cell_type": "code",
   "execution_count": null,
   "metadata": {},
   "outputs": [],
   "source": [
    "# display sincere samples\n",
    "display_samples(0, X, valid_size, y_pred)"
   ]
  },
  {
   "cell_type": "markdown",
   "metadata": {},
   "source": [
    "# Future Work"
   ]
  },
  {
   "cell_type": "markdown",
   "metadata": {},
   "source": [
    "#### To improve performance:"
   ]
  },
  {
   "cell_type": "markdown",
   "metadata": {},
   "source": [
    "TODO: cross validate data by using training and testing on differnet chunks of the data\n",
    "* example: x = [1, 2, 3, 4, 5, 6, 7, 8, 9 , 10]\n",
    "    define train size = 2\n",
    "    run the model on  the following splits and compoare the \n",
    "    * train = x[0:8]; validation = x[8:10]\n",
    "    * train = x[1:9]; validation = [x[0], x[9]]\n",
    "    * train = x[2:10], validation = [x[0:2]]\n",
    "    * validation = [x[0], x[8]]; train = the rest\n",
    "    * validation = [x[1], x[4]]; train = the rest\n",
    "    * finish for all combinations\n",
    "\n",
    "The final accuracy = the average of the accuracies from each split.\n",
    "It's the same for recall and precision."
   ]
  },
  {
   "cell_type": "code",
   "execution_count": null,
   "metadata": {},
   "outputs": [],
   "source": [
    "# TODO: create features with n-grams (instead of using words as feature columns, use phrases with n words)"
   ]
  },
  {
   "cell_type": "code",
   "execution_count": null,
   "metadata": {},
   "outputs": [],
   "source": [
    "# TODO: try different models if the runtime isn't too long\n",
    "# try SVM, it generally has good performance for most classification problems"
   ]
  },
  {
   "cell_type": "markdown",
   "metadata": {},
   "source": [
    "#### To explore and visualize the data:"
   ]
  },
  {
   "cell_type": "code",
   "execution_count": 46,
   "metadata": {},
   "outputs": [
    {
     "data": {
      "image/png": "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\n",
      "text/plain": [
       "<Figure size 1080x576 with 1 Axes>"
      ]
     },
     "metadata": {
      "needs_background": "light"
     },
     "output_type": "display_data"
    }
   ],
   "source": [
<<<<<<< HEAD
    "# bigram & trigram plots"
=======
    "# TODO: create word cloud\n",
    "import numpy as np\n",
    "import pandas as pd\n",
    "from os import path\n",
    "from PIL import Image\n",
    "from wordcloud import WordCloud, STOPWORDS, ImageColorGenerator\n",
    "import matplotlib.pyplot as plt\n",
    "\n",
    "unique_string=(\" \").join(concatenated_split_train)\n",
    "wordcloud = WordCloud(width = 1000, height = 500).generate(unique_string)\n",
    "plt.figure(figsize=(15,8))\n",
    "plt.imshow(wordcloud)\n",
    "plt.axis(\"off\")\n",
    "plt.show()\n"
>>>>>>> origin/master
   ]
  },
  {
   "cell_type": "code",
   "execution_count": 43,
   "metadata": {},
   "outputs": [],
   "source": [
    "# implement ROC curve for each of our cross validation datasets"
   ]
  },
  {
   "cell_type": "code",
   "execution_count": 44,
   "metadata": {},
   "outputs": [],
   "source": [
    "# how many inscinere/sincere questions has a particular word?"
   ]
  },
  {
   "cell_type": "code",
   "execution_count": null,
   "metadata": {
    "collapsed": true
   },
   "outputs": [],
   "source": [
    "# which words produce the highest precision? recall? as in search for all the sentences with 'blacks' - call them insincere"
   ]
  },
  {
   "cell_type": "code",
<<<<<<< HEAD
   "execution_count": null,
   "metadata": {
    "collapsed": true
   },
   "outputs": [],
   "source": [
    "# TODO: group questions into themes: e.g. racism, sexism, homophobic, sexuality, religious intolerance, \n",
    "# prejudice towards immigrants, unproductive political criticism\n",
    "# Visualize this data\n",
    "# Show percentages of each type\n",
    "\n",
    "# what we define these themes to be: \n",
    "    # look for all insincere questions that include a word denoting an ethnic group (e.g. blacks, jews, muslims)\n",
    "    # look for all insincere questions that include a word denoting a sex(e.g. woman, women, man, men)\n",
    "    # look for all insincere questions that include a word denoting a sexual preference(e.g gay, homo, fag, trans, transgender, LGBTQ)\n",
    "    # look for all insincere questions that include a word denoting a religious group*( e.g. religious people, jews, muslims, christians)\n",
    "    # look for all insincere questions that include a word denoting a sexual term (sexy, gay, kiss, etc.)\n",
    "    # look for all insincere questions that include a word denoting immigrants (immigrants, fabs, fresh off the boat)\n",
    "    # look for all insincere questions that include words(s) or phrases(s) denoting a politcal topic (liberals, libs, libtards, democrats, republicans, conservatives, nazis, neo-nazis, president's name, politcal commentators, etc.)"
=======
   "execution_count": 47,
   "metadata": {},
   "outputs": [
    {
     "name": "stdout",
     "output_type": "stream",
     "text": [
      "How       0.195842\n",
      "Why       0.085094\n",
      "Is        0.072263\n",
      "Can       0.038380\n",
      "Which     0.036487\n",
      "Do        0.025090\n",
      "If        0.020175\n",
      "Are       0.017989\n",
      "Who       0.016579\n",
      "I         0.015777\n",
      "Does      0.015445\n",
      "Where     0.014378\n",
      "When      0.009899\n",
      "Should    0.009895\n",
      "Name: question_text, dtype: float64\n"
     ]
    }
   ],
   "source": [
    "# TODO: show percentage of each question type: e.g. why, how, what, do\n",
    "# Also, compare these percentages in sincere vs insincere questons\n",
    "# It seems that the top question type is \"why\"\n",
    "# What does this say about the way we obtain knowledge? Why is the \"why\" question the most common question?\n",
    "    # Why assumes that the questioner believes the statement to be true \n",
    "    \n",
    "sincere = original_train[original_train['target'] == 0]['question_text']\n",
    "sincereQ = sincere.to_frame()\n",
    "sincereQtype = sincereQ.applymap(lambda x: x.split()[0])\n",
    "sincere_Qcounts = sincereQtype['question_text'].value_counts(normalize=True)\n",
    "print(sincere_Qcounts[1:15])"
   ]
  },
  {
   "cell_type": "code",
   "execution_count": 48,
   "metadata": {},
   "outputs": [
    {
     "name": "stdout",
     "output_type": "stream",
     "text": [
      "Is        0.080671\n",
      "How       0.079916\n",
      "What      0.060512\n",
      "Do        0.058743\n",
      "Are       0.046826\n",
      "If        0.035652\n",
      "Can       0.017535\n",
      "Should    0.017077\n",
      "When      0.016000\n",
      "Does      0.015369\n",
      "I         0.015171\n",
      "Did       0.012065\n",
      "Will      0.011150\n",
      "Would     0.009739\n",
      "Name: question_text, dtype: float64\n"
     ]
    }
   ],
   "source": [
    "insincere = original_train[original_train['target'] == 1]['question_text']\n",
    "insincereQ = insincere.to_frame()\n",
    "insincereQtype = insincereQ.applymap(lambda x: x.split()[0])\n",
    "insincere_Qcounts = insincereQtype['question_text'].value_counts(normalize=True)\n",
    "print(insincere_Qcounts[1:15])"
>>>>>>> origin/master
   ]
  },
  {
   "cell_type": "code",
   "execution_count": null,
   "metadata": {},
   "outputs": [],
   "source": [
    "# larger question for discussion section: although people make such discriminatory remarks, should we censor the online public?\n",
    "# what are the implications of online censorship? \n",
    "    # Argument against censorship: people have dark, deep thoughts that may be contentious but perhaps they truly believe \n",
    "    # those thoughts and are genuinely curious. The online public could offer a medium to express and discuss those thoughts. \n",
    "    # One key advantage of online forums is the option to be anonymous, which makes one more open to share dark ideas. "
   ]
  }
 ],
 "metadata": {
  "kernelspec": {
   "display_name": "Python 3",
   "language": "python",
   "name": "python3"
  },
  "language_info": {
   "codemirror_mode": {
    "name": "ipython",
    "version": 3
   },
   "file_extension": ".py",
   "mimetype": "text/x-python",
   "name": "python",
   "nbconvert_exporter": "python",
   "pygments_lexer": "ipython3",
   "version": "3.6.6"
  }
 },
 "nbformat": 4,
 "nbformat_minor": 2
}
